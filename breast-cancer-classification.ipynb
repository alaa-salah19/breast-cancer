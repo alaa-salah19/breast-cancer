{
 "cells": [
  {
   "cell_type": "code",
   "execution_count": 1,
   "id": "81a21ab5",
   "metadata": {
    "execution": {
     "iopub.execute_input": "2024-03-01T11:46:15.150345Z",
     "iopub.status.busy": "2024-03-01T11:46:15.149934Z",
     "iopub.status.idle": "2024-03-01T11:46:17.989543Z",
     "shell.execute_reply": "2024-03-01T11:46:17.988132Z"
    },
    "papermill": {
     "duration": 2.857685,
     "end_time": "2024-03-01T11:46:17.993411",
     "exception": false,
     "start_time": "2024-03-01T11:46:15.135726",
     "status": "completed"
    },
    "tags": []
   },
   "outputs": [],
   "source": [
    "import numpy as np\n",
    "import pandas as pd\n",
    "import matplotlib.pyplot as plt\n",
    "import seaborn as sns\n",
    "import warnings\n",
    "warnings.filterwarnings('ignore')"
   ]
  },
  {
   "cell_type": "code",
   "execution_count": 2,
   "id": "347191d0",
   "metadata": {
    "execution": {
     "iopub.execute_input": "2024-03-01T11:46:18.017337Z",
     "iopub.status.busy": "2024-03-01T11:46:18.016736Z",
     "iopub.status.idle": "2024-03-01T11:46:18.047289Z",
     "shell.execute_reply": "2024-03-01T11:46:18.045427Z"
    },
    "papermill": {
     "duration": 0.045536,
     "end_time": "2024-03-01T11:46:18.050084",
     "exception": false,
     "start_time": "2024-03-01T11:46:18.004548",
     "status": "completed"
    },
    "tags": []
   },
   "outputs": [],
   "source": [
    "data = pd.read_csv('/kaggle/input/breast-cancer-dataset/breast-cancer.csv')"
   ]
  },
  {
   "cell_type": "code",
   "execution_count": 3,
   "id": "11e8ca5e",
   "metadata": {
    "execution": {
     "iopub.execute_input": "2024-03-01T11:46:18.072485Z",
     "iopub.status.busy": "2024-03-01T11:46:18.072059Z",
     "iopub.status.idle": "2024-03-01T11:46:18.125477Z",
     "shell.execute_reply": "2024-03-01T11:46:18.123860Z"
    },
    "papermill": {
     "duration": 0.067761,
     "end_time": "2024-03-01T11:46:18.128179",
     "exception": false,
     "start_time": "2024-03-01T11:46:18.060418",
     "status": "completed"
    },
    "tags": []
   },
   "outputs": [
    {
     "data": {
      "text/html": [
       "<div>\n",
       "<style scoped>\n",
       "    .dataframe tbody tr th:only-of-type {\n",
       "        vertical-align: middle;\n",
       "    }\n",
       "\n",
       "    .dataframe tbody tr th {\n",
       "        vertical-align: top;\n",
       "    }\n",
       "\n",
       "    .dataframe thead th {\n",
       "        text-align: right;\n",
       "    }\n",
       "</style>\n",
       "<table border=\"1\" class=\"dataframe\">\n",
       "  <thead>\n",
       "    <tr style=\"text-align: right;\">\n",
       "      <th></th>\n",
       "      <th>id</th>\n",
       "      <th>diagnosis</th>\n",
       "      <th>radius_mean</th>\n",
       "      <th>texture_mean</th>\n",
       "      <th>perimeter_mean</th>\n",
       "      <th>area_mean</th>\n",
       "      <th>smoothness_mean</th>\n",
       "      <th>compactness_mean</th>\n",
       "      <th>concavity_mean</th>\n",
       "      <th>concave points_mean</th>\n",
       "      <th>...</th>\n",
       "      <th>radius_worst</th>\n",
       "      <th>texture_worst</th>\n",
       "      <th>perimeter_worst</th>\n",
       "      <th>area_worst</th>\n",
       "      <th>smoothness_worst</th>\n",
       "      <th>compactness_worst</th>\n",
       "      <th>concavity_worst</th>\n",
       "      <th>concave points_worst</th>\n",
       "      <th>symmetry_worst</th>\n",
       "      <th>fractal_dimension_worst</th>\n",
       "    </tr>\n",
       "  </thead>\n",
       "  <tbody>\n",
       "    <tr>\n",
       "      <th>232</th>\n",
       "      <td>88203002</td>\n",
       "      <td>B</td>\n",
       "      <td>11.220</td>\n",
       "      <td>33.81</td>\n",
       "      <td>70.79</td>\n",
       "      <td>386.8</td>\n",
       "      <td>0.07780</td>\n",
       "      <td>0.03574</td>\n",
       "      <td>0.004967</td>\n",
       "      <td>0.006434</td>\n",
       "      <td>...</td>\n",
       "      <td>12.36</td>\n",
       "      <td>41.78</td>\n",
       "      <td>78.44</td>\n",
       "      <td>470.9</td>\n",
       "      <td>0.09994</td>\n",
       "      <td>0.06885</td>\n",
       "      <td>0.02318</td>\n",
       "      <td>0.03002</td>\n",
       "      <td>0.2911</td>\n",
       "      <td>0.07307</td>\n",
       "    </tr>\n",
       "    <tr>\n",
       "      <th>563</th>\n",
       "      <td>926125</td>\n",
       "      <td>M</td>\n",
       "      <td>20.920</td>\n",
       "      <td>25.09</td>\n",
       "      <td>143.00</td>\n",
       "      <td>1347.0</td>\n",
       "      <td>0.10990</td>\n",
       "      <td>0.22360</td>\n",
       "      <td>0.317400</td>\n",
       "      <td>0.147400</td>\n",
       "      <td>...</td>\n",
       "      <td>24.29</td>\n",
       "      <td>29.41</td>\n",
       "      <td>179.10</td>\n",
       "      <td>1819.0</td>\n",
       "      <td>0.14070</td>\n",
       "      <td>0.41860</td>\n",
       "      <td>0.65990</td>\n",
       "      <td>0.25420</td>\n",
       "      <td>0.2929</td>\n",
       "      <td>0.09873</td>\n",
       "    </tr>\n",
       "    <tr>\n",
       "      <th>414</th>\n",
       "      <td>905680</td>\n",
       "      <td>M</td>\n",
       "      <td>15.130</td>\n",
       "      <td>29.81</td>\n",
       "      <td>96.71</td>\n",
       "      <td>719.5</td>\n",
       "      <td>0.08320</td>\n",
       "      <td>0.04605</td>\n",
       "      <td>0.046860</td>\n",
       "      <td>0.027390</td>\n",
       "      <td>...</td>\n",
       "      <td>17.26</td>\n",
       "      <td>36.91</td>\n",
       "      <td>110.10</td>\n",
       "      <td>931.4</td>\n",
       "      <td>0.11480</td>\n",
       "      <td>0.09866</td>\n",
       "      <td>0.15470</td>\n",
       "      <td>0.06575</td>\n",
       "      <td>0.3233</td>\n",
       "      <td>0.06165</td>\n",
       "    </tr>\n",
       "    <tr>\n",
       "      <th>394</th>\n",
       "      <td>903554</td>\n",
       "      <td>B</td>\n",
       "      <td>12.100</td>\n",
       "      <td>17.72</td>\n",
       "      <td>78.07</td>\n",
       "      <td>446.2</td>\n",
       "      <td>0.10290</td>\n",
       "      <td>0.09758</td>\n",
       "      <td>0.047830</td>\n",
       "      <td>0.033260</td>\n",
       "      <td>...</td>\n",
       "      <td>13.56</td>\n",
       "      <td>25.80</td>\n",
       "      <td>88.33</td>\n",
       "      <td>559.5</td>\n",
       "      <td>0.14320</td>\n",
       "      <td>0.17730</td>\n",
       "      <td>0.16030</td>\n",
       "      <td>0.06266</td>\n",
       "      <td>0.3049</td>\n",
       "      <td>0.07081</td>\n",
       "    </tr>\n",
       "    <tr>\n",
       "      <th>102</th>\n",
       "      <td>862965</td>\n",
       "      <td>B</td>\n",
       "      <td>12.180</td>\n",
       "      <td>20.52</td>\n",
       "      <td>77.22</td>\n",
       "      <td>458.7</td>\n",
       "      <td>0.08013</td>\n",
       "      <td>0.04038</td>\n",
       "      <td>0.023830</td>\n",
       "      <td>0.017700</td>\n",
       "      <td>...</td>\n",
       "      <td>13.34</td>\n",
       "      <td>32.84</td>\n",
       "      <td>84.58</td>\n",
       "      <td>547.8</td>\n",
       "      <td>0.11230</td>\n",
       "      <td>0.08862</td>\n",
       "      <td>0.11450</td>\n",
       "      <td>0.07431</td>\n",
       "      <td>0.2694</td>\n",
       "      <td>0.06878</td>\n",
       "    </tr>\n",
       "    <tr>\n",
       "      <th>498</th>\n",
       "      <td>914769</td>\n",
       "      <td>M</td>\n",
       "      <td>18.490</td>\n",
       "      <td>17.52</td>\n",
       "      <td>121.30</td>\n",
       "      <td>1068.0</td>\n",
       "      <td>0.10120</td>\n",
       "      <td>0.13170</td>\n",
       "      <td>0.149100</td>\n",
       "      <td>0.091830</td>\n",
       "      <td>...</td>\n",
       "      <td>22.75</td>\n",
       "      <td>22.88</td>\n",
       "      <td>146.40</td>\n",
       "      <td>1600.0</td>\n",
       "      <td>0.14120</td>\n",
       "      <td>0.30890</td>\n",
       "      <td>0.35330</td>\n",
       "      <td>0.16630</td>\n",
       "      <td>0.2510</td>\n",
       "      <td>0.09445</td>\n",
       "    </tr>\n",
       "    <tr>\n",
       "      <th>332</th>\n",
       "      <td>897132</td>\n",
       "      <td>B</td>\n",
       "      <td>11.220</td>\n",
       "      <td>19.86</td>\n",
       "      <td>71.94</td>\n",
       "      <td>387.3</td>\n",
       "      <td>0.10540</td>\n",
       "      <td>0.06779</td>\n",
       "      <td>0.005006</td>\n",
       "      <td>0.007583</td>\n",
       "      <td>...</td>\n",
       "      <td>11.98</td>\n",
       "      <td>25.78</td>\n",
       "      <td>76.91</td>\n",
       "      <td>436.1</td>\n",
       "      <td>0.14240</td>\n",
       "      <td>0.09669</td>\n",
       "      <td>0.01335</td>\n",
       "      <td>0.02022</td>\n",
       "      <td>0.3292</td>\n",
       "      <td>0.06522</td>\n",
       "    </tr>\n",
       "    <tr>\n",
       "      <th>82</th>\n",
       "      <td>8611555</td>\n",
       "      <td>M</td>\n",
       "      <td>25.220</td>\n",
       "      <td>24.91</td>\n",
       "      <td>171.50</td>\n",
       "      <td>1878.0</td>\n",
       "      <td>0.10630</td>\n",
       "      <td>0.26650</td>\n",
       "      <td>0.333900</td>\n",
       "      <td>0.184500</td>\n",
       "      <td>...</td>\n",
       "      <td>30.00</td>\n",
       "      <td>33.62</td>\n",
       "      <td>211.70</td>\n",
       "      <td>2562.0</td>\n",
       "      <td>0.15730</td>\n",
       "      <td>0.60760</td>\n",
       "      <td>0.64760</td>\n",
       "      <td>0.28670</td>\n",
       "      <td>0.2355</td>\n",
       "      <td>0.10510</td>\n",
       "    </tr>\n",
       "    <tr>\n",
       "      <th>318</th>\n",
       "      <td>894329</td>\n",
       "      <td>B</td>\n",
       "      <td>9.042</td>\n",
       "      <td>18.90</td>\n",
       "      <td>60.07</td>\n",
       "      <td>244.5</td>\n",
       "      <td>0.09968</td>\n",
       "      <td>0.19720</td>\n",
       "      <td>0.197500</td>\n",
       "      <td>0.049080</td>\n",
       "      <td>...</td>\n",
       "      <td>10.06</td>\n",
       "      <td>23.40</td>\n",
       "      <td>68.62</td>\n",
       "      <td>297.1</td>\n",
       "      <td>0.12210</td>\n",
       "      <td>0.37480</td>\n",
       "      <td>0.46090</td>\n",
       "      <td>0.11450</td>\n",
       "      <td>0.3135</td>\n",
       "      <td>0.10550</td>\n",
       "    </tr>\n",
       "    <tr>\n",
       "      <th>79</th>\n",
       "      <td>8610908</td>\n",
       "      <td>B</td>\n",
       "      <td>12.860</td>\n",
       "      <td>18.00</td>\n",
       "      <td>83.19</td>\n",
       "      <td>506.3</td>\n",
       "      <td>0.09934</td>\n",
       "      <td>0.09546</td>\n",
       "      <td>0.038890</td>\n",
       "      <td>0.023150</td>\n",
       "      <td>...</td>\n",
       "      <td>14.24</td>\n",
       "      <td>24.82</td>\n",
       "      <td>91.88</td>\n",
       "      <td>622.1</td>\n",
       "      <td>0.12890</td>\n",
       "      <td>0.21410</td>\n",
       "      <td>0.17310</td>\n",
       "      <td>0.07926</td>\n",
       "      <td>0.2779</td>\n",
       "      <td>0.07918</td>\n",
       "    </tr>\n",
       "  </tbody>\n",
       "</table>\n",
       "<p>10 rows × 32 columns</p>\n",
       "</div>"
      ],
      "text/plain": [
       "           id diagnosis  radius_mean  texture_mean  perimeter_mean  area_mean  \\\n",
       "232  88203002         B       11.220         33.81           70.79      386.8   \n",
       "563    926125         M       20.920         25.09          143.00     1347.0   \n",
       "414    905680         M       15.130         29.81           96.71      719.5   \n",
       "394    903554         B       12.100         17.72           78.07      446.2   \n",
       "102    862965         B       12.180         20.52           77.22      458.7   \n",
       "498    914769         M       18.490         17.52          121.30     1068.0   \n",
       "332    897132         B       11.220         19.86           71.94      387.3   \n",
       "82    8611555         M       25.220         24.91          171.50     1878.0   \n",
       "318    894329         B        9.042         18.90           60.07      244.5   \n",
       "79    8610908         B       12.860         18.00           83.19      506.3   \n",
       "\n",
       "     smoothness_mean  compactness_mean  concavity_mean  concave points_mean  \\\n",
       "232          0.07780           0.03574        0.004967             0.006434   \n",
       "563          0.10990           0.22360        0.317400             0.147400   \n",
       "414          0.08320           0.04605        0.046860             0.027390   \n",
       "394          0.10290           0.09758        0.047830             0.033260   \n",
       "102          0.08013           0.04038        0.023830             0.017700   \n",
       "498          0.10120           0.13170        0.149100             0.091830   \n",
       "332          0.10540           0.06779        0.005006             0.007583   \n",
       "82           0.10630           0.26650        0.333900             0.184500   \n",
       "318          0.09968           0.19720        0.197500             0.049080   \n",
       "79           0.09934           0.09546        0.038890             0.023150   \n",
       "\n",
       "     ...  radius_worst  texture_worst  perimeter_worst  area_worst  \\\n",
       "232  ...         12.36          41.78            78.44       470.9   \n",
       "563  ...         24.29          29.41           179.10      1819.0   \n",
       "414  ...         17.26          36.91           110.10       931.4   \n",
       "394  ...         13.56          25.80            88.33       559.5   \n",
       "102  ...         13.34          32.84            84.58       547.8   \n",
       "498  ...         22.75          22.88           146.40      1600.0   \n",
       "332  ...         11.98          25.78            76.91       436.1   \n",
       "82   ...         30.00          33.62           211.70      2562.0   \n",
       "318  ...         10.06          23.40            68.62       297.1   \n",
       "79   ...         14.24          24.82            91.88       622.1   \n",
       "\n",
       "     smoothness_worst  compactness_worst  concavity_worst  \\\n",
       "232           0.09994            0.06885          0.02318   \n",
       "563           0.14070            0.41860          0.65990   \n",
       "414           0.11480            0.09866          0.15470   \n",
       "394           0.14320            0.17730          0.16030   \n",
       "102           0.11230            0.08862          0.11450   \n",
       "498           0.14120            0.30890          0.35330   \n",
       "332           0.14240            0.09669          0.01335   \n",
       "82            0.15730            0.60760          0.64760   \n",
       "318           0.12210            0.37480          0.46090   \n",
       "79            0.12890            0.21410          0.17310   \n",
       "\n",
       "     concave points_worst  symmetry_worst  fractal_dimension_worst  \n",
       "232               0.03002          0.2911                  0.07307  \n",
       "563               0.25420          0.2929                  0.09873  \n",
       "414               0.06575          0.3233                  0.06165  \n",
       "394               0.06266          0.3049                  0.07081  \n",
       "102               0.07431          0.2694                  0.06878  \n",
       "498               0.16630          0.2510                  0.09445  \n",
       "332               0.02022          0.3292                  0.06522  \n",
       "82                0.28670          0.2355                  0.10510  \n",
       "318               0.11450          0.3135                  0.10550  \n",
       "79                0.07926          0.2779                  0.07918  \n",
       "\n",
       "[10 rows x 32 columns]"
      ]
     },
     "execution_count": 3,
     "metadata": {},
     "output_type": "execute_result"
    }
   ],
   "source": [
    "data.sample(10)"
   ]
  },
  {
   "cell_type": "code",
   "execution_count": 4,
   "id": "c0a56c76",
   "metadata": {
    "execution": {
     "iopub.execute_input": "2024-03-01T11:46:18.154519Z",
     "iopub.status.busy": "2024-03-01T11:46:18.154092Z",
     "iopub.status.idle": "2024-03-01T11:46:18.161936Z",
     "shell.execute_reply": "2024-03-01T11:46:18.160758Z"
    },
    "papermill": {
     "duration": 0.024077,
     "end_time": "2024-03-01T11:46:18.164544",
     "exception": false,
     "start_time": "2024-03-01T11:46:18.140467",
     "status": "completed"
    },
    "tags": []
   },
   "outputs": [
    {
     "data": {
      "text/plain": [
       "(569, 32)"
      ]
     },
     "execution_count": 4,
     "metadata": {},
     "output_type": "execute_result"
    }
   ],
   "source": [
    "data.shape"
   ]
  },
  {
   "cell_type": "code",
   "execution_count": 5,
   "id": "91cdbb4a",
   "metadata": {
    "execution": {
     "iopub.execute_input": "2024-03-01T11:46:18.188588Z",
     "iopub.status.busy": "2024-03-01T11:46:18.188159Z",
     "iopub.status.idle": "2024-03-01T11:46:18.195623Z",
     "shell.execute_reply": "2024-03-01T11:46:18.194439Z"
    },
    "papermill": {
     "duration": 0.023133,
     "end_time": "2024-03-01T11:46:18.198478",
     "exception": false,
     "start_time": "2024-03-01T11:46:18.175345",
     "status": "completed"
    },
    "tags": []
   },
   "outputs": [],
   "source": [
    "data.drop(columns='id',inplace=True)"
   ]
  },
  {
   "cell_type": "code",
   "execution_count": 6,
   "id": "bc84f53e",
   "metadata": {
    "execution": {
     "iopub.execute_input": "2024-03-01T11:46:18.225159Z",
     "iopub.status.busy": "2024-03-01T11:46:18.224469Z",
     "iopub.status.idle": "2024-03-01T11:46:18.317099Z",
     "shell.execute_reply": "2024-03-01T11:46:18.315782Z"
    },
    "papermill": {
     "duration": 0.110191,
     "end_time": "2024-03-01T11:46:18.319925",
     "exception": false,
     "start_time": "2024-03-01T11:46:18.209734",
     "status": "completed"
    },
    "tags": []
   },
   "outputs": [
    {
     "data": {
      "text/html": [
       "<div>\n",
       "<style scoped>\n",
       "    .dataframe tbody tr th:only-of-type {\n",
       "        vertical-align: middle;\n",
       "    }\n",
       "\n",
       "    .dataframe tbody tr th {\n",
       "        vertical-align: top;\n",
       "    }\n",
       "\n",
       "    .dataframe thead th {\n",
       "        text-align: right;\n",
       "    }\n",
       "</style>\n",
       "<table border=\"1\" class=\"dataframe\">\n",
       "  <thead>\n",
       "    <tr style=\"text-align: right;\">\n",
       "      <th></th>\n",
       "      <th>radius_mean</th>\n",
       "      <th>texture_mean</th>\n",
       "      <th>perimeter_mean</th>\n",
       "      <th>area_mean</th>\n",
       "      <th>smoothness_mean</th>\n",
       "      <th>compactness_mean</th>\n",
       "      <th>concavity_mean</th>\n",
       "      <th>concave points_mean</th>\n",
       "      <th>symmetry_mean</th>\n",
       "      <th>fractal_dimension_mean</th>\n",
       "      <th>...</th>\n",
       "      <th>radius_worst</th>\n",
       "      <th>texture_worst</th>\n",
       "      <th>perimeter_worst</th>\n",
       "      <th>area_worst</th>\n",
       "      <th>smoothness_worst</th>\n",
       "      <th>compactness_worst</th>\n",
       "      <th>concavity_worst</th>\n",
       "      <th>concave points_worst</th>\n",
       "      <th>symmetry_worst</th>\n",
       "      <th>fractal_dimension_worst</th>\n",
       "    </tr>\n",
       "  </thead>\n",
       "  <tbody>\n",
       "    <tr>\n",
       "      <th>count</th>\n",
       "      <td>569.000000</td>\n",
       "      <td>569.000000</td>\n",
       "      <td>569.000000</td>\n",
       "      <td>569.000000</td>\n",
       "      <td>569.000000</td>\n",
       "      <td>569.000000</td>\n",
       "      <td>569.000000</td>\n",
       "      <td>569.000000</td>\n",
       "      <td>569.000000</td>\n",
       "      <td>569.000000</td>\n",
       "      <td>...</td>\n",
       "      <td>569.000000</td>\n",
       "      <td>569.000000</td>\n",
       "      <td>569.000000</td>\n",
       "      <td>569.000000</td>\n",
       "      <td>569.000000</td>\n",
       "      <td>569.000000</td>\n",
       "      <td>569.000000</td>\n",
       "      <td>569.000000</td>\n",
       "      <td>569.000000</td>\n",
       "      <td>569.000000</td>\n",
       "    </tr>\n",
       "    <tr>\n",
       "      <th>mean</th>\n",
       "      <td>14.127292</td>\n",
       "      <td>19.289649</td>\n",
       "      <td>91.969033</td>\n",
       "      <td>654.889104</td>\n",
       "      <td>0.096360</td>\n",
       "      <td>0.104341</td>\n",
       "      <td>0.088799</td>\n",
       "      <td>0.048919</td>\n",
       "      <td>0.181162</td>\n",
       "      <td>0.062798</td>\n",
       "      <td>...</td>\n",
       "      <td>16.269190</td>\n",
       "      <td>25.677223</td>\n",
       "      <td>107.261213</td>\n",
       "      <td>880.583128</td>\n",
       "      <td>0.132369</td>\n",
       "      <td>0.254265</td>\n",
       "      <td>0.272188</td>\n",
       "      <td>0.114606</td>\n",
       "      <td>0.290076</td>\n",
       "      <td>0.083946</td>\n",
       "    </tr>\n",
       "    <tr>\n",
       "      <th>std</th>\n",
       "      <td>3.524049</td>\n",
       "      <td>4.301036</td>\n",
       "      <td>24.298981</td>\n",
       "      <td>351.914129</td>\n",
       "      <td>0.014064</td>\n",
       "      <td>0.052813</td>\n",
       "      <td>0.079720</td>\n",
       "      <td>0.038803</td>\n",
       "      <td>0.027414</td>\n",
       "      <td>0.007060</td>\n",
       "      <td>...</td>\n",
       "      <td>4.833242</td>\n",
       "      <td>6.146258</td>\n",
       "      <td>33.602542</td>\n",
       "      <td>569.356993</td>\n",
       "      <td>0.022832</td>\n",
       "      <td>0.157336</td>\n",
       "      <td>0.208624</td>\n",
       "      <td>0.065732</td>\n",
       "      <td>0.061867</td>\n",
       "      <td>0.018061</td>\n",
       "    </tr>\n",
       "    <tr>\n",
       "      <th>min</th>\n",
       "      <td>6.981000</td>\n",
       "      <td>9.710000</td>\n",
       "      <td>43.790000</td>\n",
       "      <td>143.500000</td>\n",
       "      <td>0.052630</td>\n",
       "      <td>0.019380</td>\n",
       "      <td>0.000000</td>\n",
       "      <td>0.000000</td>\n",
       "      <td>0.106000</td>\n",
       "      <td>0.049960</td>\n",
       "      <td>...</td>\n",
       "      <td>7.930000</td>\n",
       "      <td>12.020000</td>\n",
       "      <td>50.410000</td>\n",
       "      <td>185.200000</td>\n",
       "      <td>0.071170</td>\n",
       "      <td>0.027290</td>\n",
       "      <td>0.000000</td>\n",
       "      <td>0.000000</td>\n",
       "      <td>0.156500</td>\n",
       "      <td>0.055040</td>\n",
       "    </tr>\n",
       "    <tr>\n",
       "      <th>25%</th>\n",
       "      <td>11.700000</td>\n",
       "      <td>16.170000</td>\n",
       "      <td>75.170000</td>\n",
       "      <td>420.300000</td>\n",
       "      <td>0.086370</td>\n",
       "      <td>0.064920</td>\n",
       "      <td>0.029560</td>\n",
       "      <td>0.020310</td>\n",
       "      <td>0.161900</td>\n",
       "      <td>0.057700</td>\n",
       "      <td>...</td>\n",
       "      <td>13.010000</td>\n",
       "      <td>21.080000</td>\n",
       "      <td>84.110000</td>\n",
       "      <td>515.300000</td>\n",
       "      <td>0.116600</td>\n",
       "      <td>0.147200</td>\n",
       "      <td>0.114500</td>\n",
       "      <td>0.064930</td>\n",
       "      <td>0.250400</td>\n",
       "      <td>0.071460</td>\n",
       "    </tr>\n",
       "    <tr>\n",
       "      <th>50%</th>\n",
       "      <td>13.370000</td>\n",
       "      <td>18.840000</td>\n",
       "      <td>86.240000</td>\n",
       "      <td>551.100000</td>\n",
       "      <td>0.095870</td>\n",
       "      <td>0.092630</td>\n",
       "      <td>0.061540</td>\n",
       "      <td>0.033500</td>\n",
       "      <td>0.179200</td>\n",
       "      <td>0.061540</td>\n",
       "      <td>...</td>\n",
       "      <td>14.970000</td>\n",
       "      <td>25.410000</td>\n",
       "      <td>97.660000</td>\n",
       "      <td>686.500000</td>\n",
       "      <td>0.131300</td>\n",
       "      <td>0.211900</td>\n",
       "      <td>0.226700</td>\n",
       "      <td>0.099930</td>\n",
       "      <td>0.282200</td>\n",
       "      <td>0.080040</td>\n",
       "    </tr>\n",
       "    <tr>\n",
       "      <th>75%</th>\n",
       "      <td>15.780000</td>\n",
       "      <td>21.800000</td>\n",
       "      <td>104.100000</td>\n",
       "      <td>782.700000</td>\n",
       "      <td>0.105300</td>\n",
       "      <td>0.130400</td>\n",
       "      <td>0.130700</td>\n",
       "      <td>0.074000</td>\n",
       "      <td>0.195700</td>\n",
       "      <td>0.066120</td>\n",
       "      <td>...</td>\n",
       "      <td>18.790000</td>\n",
       "      <td>29.720000</td>\n",
       "      <td>125.400000</td>\n",
       "      <td>1084.000000</td>\n",
       "      <td>0.146000</td>\n",
       "      <td>0.339100</td>\n",
       "      <td>0.382900</td>\n",
       "      <td>0.161400</td>\n",
       "      <td>0.317900</td>\n",
       "      <td>0.092080</td>\n",
       "    </tr>\n",
       "    <tr>\n",
       "      <th>max</th>\n",
       "      <td>28.110000</td>\n",
       "      <td>39.280000</td>\n",
       "      <td>188.500000</td>\n",
       "      <td>2501.000000</td>\n",
       "      <td>0.163400</td>\n",
       "      <td>0.345400</td>\n",
       "      <td>0.426800</td>\n",
       "      <td>0.201200</td>\n",
       "      <td>0.304000</td>\n",
       "      <td>0.097440</td>\n",
       "      <td>...</td>\n",
       "      <td>36.040000</td>\n",
       "      <td>49.540000</td>\n",
       "      <td>251.200000</td>\n",
       "      <td>4254.000000</td>\n",
       "      <td>0.222600</td>\n",
       "      <td>1.058000</td>\n",
       "      <td>1.252000</td>\n",
       "      <td>0.291000</td>\n",
       "      <td>0.663800</td>\n",
       "      <td>0.207500</td>\n",
       "    </tr>\n",
       "  </tbody>\n",
       "</table>\n",
       "<p>8 rows × 30 columns</p>\n",
       "</div>"
      ],
      "text/plain": [
       "       radius_mean  texture_mean  perimeter_mean    area_mean  \\\n",
       "count   569.000000    569.000000      569.000000   569.000000   \n",
       "mean     14.127292     19.289649       91.969033   654.889104   \n",
       "std       3.524049      4.301036       24.298981   351.914129   \n",
       "min       6.981000      9.710000       43.790000   143.500000   \n",
       "25%      11.700000     16.170000       75.170000   420.300000   \n",
       "50%      13.370000     18.840000       86.240000   551.100000   \n",
       "75%      15.780000     21.800000      104.100000   782.700000   \n",
       "max      28.110000     39.280000      188.500000  2501.000000   \n",
       "\n",
       "       smoothness_mean  compactness_mean  concavity_mean  concave points_mean  \\\n",
       "count       569.000000        569.000000      569.000000           569.000000   \n",
       "mean          0.096360          0.104341        0.088799             0.048919   \n",
       "std           0.014064          0.052813        0.079720             0.038803   \n",
       "min           0.052630          0.019380        0.000000             0.000000   \n",
       "25%           0.086370          0.064920        0.029560             0.020310   \n",
       "50%           0.095870          0.092630        0.061540             0.033500   \n",
       "75%           0.105300          0.130400        0.130700             0.074000   \n",
       "max           0.163400          0.345400        0.426800             0.201200   \n",
       "\n",
       "       symmetry_mean  fractal_dimension_mean  ...  radius_worst  \\\n",
       "count     569.000000              569.000000  ...    569.000000   \n",
       "mean        0.181162                0.062798  ...     16.269190   \n",
       "std         0.027414                0.007060  ...      4.833242   \n",
       "min         0.106000                0.049960  ...      7.930000   \n",
       "25%         0.161900                0.057700  ...     13.010000   \n",
       "50%         0.179200                0.061540  ...     14.970000   \n",
       "75%         0.195700                0.066120  ...     18.790000   \n",
       "max         0.304000                0.097440  ...     36.040000   \n",
       "\n",
       "       texture_worst  perimeter_worst   area_worst  smoothness_worst  \\\n",
       "count     569.000000       569.000000   569.000000        569.000000   \n",
       "mean       25.677223       107.261213   880.583128          0.132369   \n",
       "std         6.146258        33.602542   569.356993          0.022832   \n",
       "min        12.020000        50.410000   185.200000          0.071170   \n",
       "25%        21.080000        84.110000   515.300000          0.116600   \n",
       "50%        25.410000        97.660000   686.500000          0.131300   \n",
       "75%        29.720000       125.400000  1084.000000          0.146000   \n",
       "max        49.540000       251.200000  4254.000000          0.222600   \n",
       "\n",
       "       compactness_worst  concavity_worst  concave points_worst  \\\n",
       "count         569.000000       569.000000            569.000000   \n",
       "mean            0.254265         0.272188              0.114606   \n",
       "std             0.157336         0.208624              0.065732   \n",
       "min             0.027290         0.000000              0.000000   \n",
       "25%             0.147200         0.114500              0.064930   \n",
       "50%             0.211900         0.226700              0.099930   \n",
       "75%             0.339100         0.382900              0.161400   \n",
       "max             1.058000         1.252000              0.291000   \n",
       "\n",
       "       symmetry_worst  fractal_dimension_worst  \n",
       "count      569.000000               569.000000  \n",
       "mean         0.290076                 0.083946  \n",
       "std          0.061867                 0.018061  \n",
       "min          0.156500                 0.055040  \n",
       "25%          0.250400                 0.071460  \n",
       "50%          0.282200                 0.080040  \n",
       "75%          0.317900                 0.092080  \n",
       "max          0.663800                 0.207500  \n",
       "\n",
       "[8 rows x 30 columns]"
      ]
     },
     "execution_count": 6,
     "metadata": {},
     "output_type": "execute_result"
    }
   ],
   "source": [
    "data.describe()"
   ]
  },
  {
   "cell_type": "code",
   "execution_count": 7,
   "id": "dee8b070",
   "metadata": {
    "execution": {
     "iopub.execute_input": "2024-03-01T11:46:18.345478Z",
     "iopub.status.busy": "2024-03-01T11:46:18.345098Z",
     "iopub.status.idle": "2024-03-01T11:46:18.368073Z",
     "shell.execute_reply": "2024-03-01T11:46:18.366418Z"
    },
    "papermill": {
     "duration": 0.03907,
     "end_time": "2024-03-01T11:46:18.370724",
     "exception": false,
     "start_time": "2024-03-01T11:46:18.331654",
     "status": "completed"
    },
    "tags": []
   },
   "outputs": [
    {
     "name": "stdout",
     "output_type": "stream",
     "text": [
      "<class 'pandas.core.frame.DataFrame'>\n",
      "RangeIndex: 569 entries, 0 to 568\n",
      "Data columns (total 31 columns):\n",
      " #   Column                   Non-Null Count  Dtype  \n",
      "---  ------                   --------------  -----  \n",
      " 0   diagnosis                569 non-null    object \n",
      " 1   radius_mean              569 non-null    float64\n",
      " 2   texture_mean             569 non-null    float64\n",
      " 3   perimeter_mean           569 non-null    float64\n",
      " 4   area_mean                569 non-null    float64\n",
      " 5   smoothness_mean          569 non-null    float64\n",
      " 6   compactness_mean         569 non-null    float64\n",
      " 7   concavity_mean           569 non-null    float64\n",
      " 8   concave points_mean      569 non-null    float64\n",
      " 9   symmetry_mean            569 non-null    float64\n",
      " 10  fractal_dimension_mean   569 non-null    float64\n",
      " 11  radius_se                569 non-null    float64\n",
      " 12  texture_se               569 non-null    float64\n",
      " 13  perimeter_se             569 non-null    float64\n",
      " 14  area_se                  569 non-null    float64\n",
      " 15  smoothness_se            569 non-null    float64\n",
      " 16  compactness_se           569 non-null    float64\n",
      " 17  concavity_se             569 non-null    float64\n",
      " 18  concave points_se        569 non-null    float64\n",
      " 19  symmetry_se              569 non-null    float64\n",
      " 20  fractal_dimension_se     569 non-null    float64\n",
      " 21  radius_worst             569 non-null    float64\n",
      " 22  texture_worst            569 non-null    float64\n",
      " 23  perimeter_worst          569 non-null    float64\n",
      " 24  area_worst               569 non-null    float64\n",
      " 25  smoothness_worst         569 non-null    float64\n",
      " 26  compactness_worst        569 non-null    float64\n",
      " 27  concavity_worst          569 non-null    float64\n",
      " 28  concave points_worst     569 non-null    float64\n",
      " 29  symmetry_worst           569 non-null    float64\n",
      " 30  fractal_dimension_worst  569 non-null    float64\n",
      "dtypes: float64(30), object(1)\n",
      "memory usage: 137.9+ KB\n"
     ]
    }
   ],
   "source": [
    "data.info()"
   ]
  },
  {
   "cell_type": "code",
   "execution_count": 8,
   "id": "3def09f5",
   "metadata": {
    "execution": {
     "iopub.execute_input": "2024-03-01T11:46:18.396773Z",
     "iopub.status.busy": "2024-03-01T11:46:18.396381Z",
     "iopub.status.idle": "2024-03-01T11:46:18.409206Z",
     "shell.execute_reply": "2024-03-01T11:46:18.408061Z"
    },
    "papermill": {
     "duration": 0.02839,
     "end_time": "2024-03-01T11:46:18.411450",
     "exception": false,
     "start_time": "2024-03-01T11:46:18.383060",
     "status": "completed"
    },
    "tags": []
   },
   "outputs": [
    {
     "data": {
      "text/plain": [
       "0"
      ]
     },
     "execution_count": 8,
     "metadata": {},
     "output_type": "execute_result"
    }
   ],
   "source": [
    "data.duplicated().sum() "
   ]
  },
  {
   "cell_type": "code",
   "execution_count": 9,
   "id": "ca933d2b",
   "metadata": {
    "execution": {
     "iopub.execute_input": "2024-03-01T11:46:18.438603Z",
     "iopub.status.busy": "2024-03-01T11:46:18.438206Z",
     "iopub.status.idle": "2024-03-01T11:46:18.446102Z",
     "shell.execute_reply": "2024-03-01T11:46:18.445249Z"
    },
    "papermill": {
     "duration": 0.024425,
     "end_time": "2024-03-01T11:46:18.448245",
     "exception": false,
     "start_time": "2024-03-01T11:46:18.423820",
     "status": "completed"
    },
    "tags": []
   },
   "outputs": [
    {
     "data": {
      "text/plain": [
       "diagnosis                  0\n",
       "radius_mean                0\n",
       "texture_mean               0\n",
       "perimeter_mean             0\n",
       "area_mean                  0\n",
       "smoothness_mean            0\n",
       "compactness_mean           0\n",
       "concavity_mean             0\n",
       "concave points_mean        0\n",
       "symmetry_mean              0\n",
       "fractal_dimension_mean     0\n",
       "radius_se                  0\n",
       "texture_se                 0\n",
       "perimeter_se               0\n",
       "area_se                    0\n",
       "smoothness_se              0\n",
       "compactness_se             0\n",
       "concavity_se               0\n",
       "concave points_se          0\n",
       "symmetry_se                0\n",
       "fractal_dimension_se       0\n",
       "radius_worst               0\n",
       "texture_worst              0\n",
       "perimeter_worst            0\n",
       "area_worst                 0\n",
       "smoothness_worst           0\n",
       "compactness_worst          0\n",
       "concavity_worst            0\n",
       "concave points_worst       0\n",
       "symmetry_worst             0\n",
       "fractal_dimension_worst    0\n",
       "dtype: int64"
      ]
     },
     "execution_count": 9,
     "metadata": {},
     "output_type": "execute_result"
    }
   ],
   "source": [
    "data.isnull().sum()"
   ]
  },
  {
   "cell_type": "code",
   "execution_count": 10,
   "id": "2b050c08",
   "metadata": {
    "execution": {
     "iopub.execute_input": "2024-03-01T11:46:18.475815Z",
     "iopub.status.busy": "2024-03-01T11:46:18.474512Z",
     "iopub.status.idle": "2024-03-01T11:46:18.483986Z",
     "shell.execute_reply": "2024-03-01T11:46:18.482566Z"
    },
    "papermill": {
     "duration": 0.026415,
     "end_time": "2024-03-01T11:46:18.487131",
     "exception": false,
     "start_time": "2024-03-01T11:46:18.460716",
     "status": "completed"
    },
    "tags": []
   },
   "outputs": [
    {
     "data": {
      "text/plain": [
       "diagnosis\n",
       "B    357\n",
       "M    212\n",
       "Name: count, dtype: int64"
      ]
     },
     "execution_count": 10,
     "metadata": {},
     "output_type": "execute_result"
    }
   ],
   "source": [
    "data['diagnosis'].value_counts() "
   ]
  },
  {
   "cell_type": "code",
   "execution_count": 11,
   "id": "e952bfa2",
   "metadata": {
    "execution": {
     "iopub.execute_input": "2024-03-01T11:46:18.514338Z",
     "iopub.status.busy": "2024-03-01T11:46:18.513327Z",
     "iopub.status.idle": "2024-03-01T11:46:18.848143Z",
     "shell.execute_reply": "2024-03-01T11:46:18.847180Z"
    },
    "papermill": {
     "duration": 0.351164,
     "end_time": "2024-03-01T11:46:18.850601",
     "exception": false,
     "start_time": "2024-03-01T11:46:18.499437",
     "status": "completed"
    },
    "tags": []
   },
   "outputs": [
    {
     "data": {
      "image/png": "[encoded data removed]",
      "text/plain": [
       "<Figure size 800x600 with 1 Axes>"
      ]
     },
     "metadata": {},
     "output_type": "display_data"
    }
   ],
   "source": [
    "plt.figure(figsize=(8,6))\n",
    "sns.countplot(data = data ,x= data['diagnosis'])\n",
    "plt.show()\n"
   ]
  },
  {
   "cell_type": "code",
   "execution_count": 12,
   "id": "874287e3",
   "metadata": {
    "execution": {
     "iopub.execute_input": "2024-03-01T11:46:18.878105Z",
     "iopub.status.busy": "2024-03-01T11:46:18.877257Z",
     "iopub.status.idle": "2024-03-01T11:46:18.884322Z",
     "shell.execute_reply": "2024-03-01T11:46:18.882598Z"
    },
    "papermill": {
     "duration": 0.023296,
     "end_time": "2024-03-01T11:46:18.887093",
     "exception": false,
     "start_time": "2024-03-01T11:46:18.863797",
     "status": "completed"
    },
    "tags": []
   },
   "outputs": [],
   "source": [
    "X = data.iloc[:, 1:-1].values\n",
    "y = data.iloc[:, 0].values"
   ]
  },
  {
   "cell_type": "markdown",
   "id": "7c5390ce",
   "metadata": {
    "papermill": {
     "duration": 0.011915,
     "end_time": "2024-03-01T11:46:18.914086",
     "exception": false,
     "start_time": "2024-03-01T11:46:18.902171",
     "status": "completed"
    },
    "tags": []
   },
   "source": [
    "# encoding"
   ]
  },
  {
   "cell_type": "code",
   "execution_count": 13,
   "id": "b5a098cf",
   "metadata": {
    "execution": {
     "iopub.execute_input": "2024-03-01T11:46:18.942370Z",
     "iopub.status.busy": "2024-03-01T11:46:18.941976Z",
     "iopub.status.idle": "2024-03-01T11:46:19.161472Z",
     "shell.execute_reply": "2024-03-01T11:46:19.159923Z"
    },
    "papermill": {
     "duration": 0.237789,
     "end_time": "2024-03-01T11:46:19.164189",
     "exception": false,
     "start_time": "2024-03-01T11:46:18.926400",
     "status": "completed"
    },
    "tags": []
   },
   "outputs": [
    {
     "name": "stdout",
     "output_type": "stream",
     "text": [
      "[1 1 1 1 1 1 1 1 1 1 1 1 1 1 1 1 1 1 1 0 0 0 1 1 1 1 1 1 1 1 1 1 1 1 1 1 1\n",
      " 0 1 1 1 1 1 1 1 1 0 1 0 0 0 0 0 1 1 0 1 1 0 0 0 0 1 0 1 1 0 0 0 0 1 0 1 1\n",
      " 0 1 0 1 1 0 0 0 1 1 0 1 1 1 0 0 0 1 0 0 1 1 0 0 0 1 1 0 0 0 0 1 0 0 1 0 0\n",
      " 0 0 0 0 0 0 1 1 1 0 1 1 0 0 0 1 1 0 1 0 1 1 0 1 1 0 0 1 0 0 1 0 0 0 0 1 0\n",
      " 0 0 0 0 0 0 0 0 1 0 0 0 0 1 1 0 1 0 0 1 1 0 0 1 1 0 0 0 0 1 0 0 1 1 1 0 1\n",
      " 0 1 0 0 0 1 0 0 1 1 0 1 1 1 1 0 1 1 1 0 1 0 1 0 0 1 0 1 1 1 1 0 0 1 1 0 0\n",
      " 0 1 0 0 0 0 0 1 1 0 0 1 0 0 1 1 0 1 0 0 0 0 1 0 0 0 0 0 1 0 1 1 1 1 1 1 1\n",
      " 1 1 1 1 1 1 1 0 0 0 0 0 0 1 0 1 0 0 1 0 0 1 0 1 1 0 0 0 0 0 0 0 0 0 0 0 0\n",
      " 0 1 0 0 1 0 1 0 0 0 0 0 0 0 0 0 0 0 0 0 0 1 0 0 0 1 0 1 0 0 0 0 1 1 1 0 0\n",
      " 0 0 1 0 1 0 1 0 0 0 1 0 0 0 0 0 0 0 1 1 1 0 0 0 0 0 0 0 0 0 0 0 1 1 0 1 1\n",
      " 1 0 1 1 0 0 0 0 0 1 0 0 0 0 0 1 0 0 0 1 0 0 1 1 0 0 0 0 0 0 1 0 0 0 0 0 0\n",
      " 0 1 0 0 0 0 0 1 0 0 1 0 0 0 0 0 0 0 0 0 0 0 0 1 0 1 1 0 1 0 0 0 0 0 1 0 0\n",
      " 1 0 1 0 0 1 0 1 0 0 0 0 0 0 0 0 1 1 0 0 0 0 0 0 1 0 0 0 0 0 0 0 0 0 0 1 0\n",
      " 0 0 0 0 0 0 1 0 1 0 0 1 0 0 0 0 0 1 1 0 1 0 1 0 0 0 0 0 1 0 0 1 0 1 0 1 1\n",
      " 0 0 0 1 0 0 0 0 0 0 0 0 0 0 0 1 0 1 1 0 0 0 0 0 0 0 0 0 0 0 0 0 0 0 0 0 0\n",
      " 0 0 0 0 0 0 0 1 1 1 1 1 1 0]\n"
     ]
    }
   ],
   "source": [
    "from sklearn.preprocessing import LabelEncoder\n",
    "le = LabelEncoder()\n",
    "y = le.fit_transform(y)\n",
    "print(y)"
   ]
  },
  {
   "cell_type": "markdown",
   "id": "377b3cea",
   "metadata": {
    "papermill": {
     "duration": 0.013627,
     "end_time": "2024-03-01T11:46:19.191126",
     "exception": false,
     "start_time": "2024-03-01T11:46:19.177499",
     "status": "completed"
    },
    "tags": []
   },
   "source": [
    "## Splitting "
   ]
  },
  {
   "cell_type": "code",
   "execution_count": 14,
   "id": "6b4f2bf9",
   "metadata": {
    "execution": {
     "iopub.execute_input": "2024-03-01T11:46:19.223184Z",
     "iopub.status.busy": "2024-03-01T11:46:19.222104Z",
     "iopub.status.idle": "2024-03-01T11:46:19.364920Z",
     "shell.execute_reply": "2024-03-01T11:46:19.363397Z"
    },
    "papermill": {
     "duration": 0.161551,
     "end_time": "2024-03-01T11:46:19.367940",
     "exception": false,
     "start_time": "2024-03-01T11:46:19.206389",
     "status": "completed"
    },
    "tags": []
   },
   "outputs": [],
   "source": [
    "from sklearn.model_selection import train_test_split\n",
    "X_train, X_test, y_train, y_test = train_test_split(X, y, test_size = 0.25, random_state = 0)"
   ]
  },
  {
   "cell_type": "markdown",
   "id": "ad2ca473",
   "metadata": {
    "papermill": {
     "duration": 0.012346,
     "end_time": "2024-03-01T11:46:19.393172",
     "exception": false,
     "start_time": "2024-03-01T11:46:19.380826",
     "status": "completed"
    },
    "tags": []
   },
   "source": [
    "## Feature Scaling"
   ]
  },
  {
   "cell_type": "code",
   "execution_count": 15,
   "id": "c262b335",
   "metadata": {
    "execution": {
     "iopub.execute_input": "2024-03-01T11:46:19.423128Z",
     "iopub.status.busy": "2024-03-01T11:46:19.422418Z",
     "iopub.status.idle": "2024-03-01T11:46:19.430426Z",
     "shell.execute_reply": "2024-03-01T11:46:19.428963Z"
    },
    "papermill": {
     "duration": 0.026053,
     "end_time": "2024-03-01T11:46:19.433388",
     "exception": false,
     "start_time": "2024-03-01T11:46:19.407335",
     "status": "completed"
    },
    "tags": []
   },
   "outputs": [],
   "source": [
    "from sklearn.preprocessing import StandardScaler\n",
    "sc = StandardScaler()\n",
    "X_train = sc.fit_transform(X_train)\n",
    "X_test = sc.transform(X_test)"
   ]
  },
  {
   "cell_type": "markdown",
   "id": "2e19c716",
   "metadata": {
    "papermill": {
     "duration": 0.01272,
     "end_time": "2024-03-01T11:46:19.458803",
     "exception": false,
     "start_time": "2024-03-01T11:46:19.446083",
     "status": "completed"
    },
    "tags": []
   },
   "source": [
    "# Decision Tree Classification"
   ]
  },
  {
   "cell_type": "code",
   "execution_count": 16,
   "id": "a9611d3e",
   "metadata": {
    "execution": {
     "iopub.execute_input": "2024-03-01T11:46:19.488347Z",
     "iopub.status.busy": "2024-03-01T11:46:19.487569Z",
     "iopub.status.idle": "2024-03-01T11:46:19.758184Z",
     "shell.execute_reply": "2024-03-01T11:46:19.757123Z"
    },
    "papermill": {
     "duration": 0.28725,
     "end_time": "2024-03-01T11:46:19.760971",
     "exception": false,
     "start_time": "2024-03-01T11:46:19.473721",
     "status": "completed"
    },
    "tags": []
   },
   "outputs": [
    {
     "data": {
      "text/html": [
       "<style>#sk-container-id-1 {color: black;background-color: white;}#sk-container-id-1 pre{padding: 0;}#sk-container-id-1 div.sk-toggleable {background-color: white;}#sk-container-id-1 label.sk-toggleable__label {cursor: pointer;display: block;width: 100%;margin-bottom: 0;padding: 0.3em;box-sizing: border-box;text-align: center;}#sk-container-id-1 label.sk-toggleable__label-arrow:before {content: \"▸\";float: left;margin-right: 0.25em;color: #696969;}#sk-container-id-1 label.sk-toggleable__label-arrow:hover:before {color: black;}#sk-container-id-1 div.sk-estimator:hover label.sk-toggleable__label-arrow:before {color: black;}#sk-container-id-1 div.sk-toggleable__content {max-height: 0;max-width: 0;overflow: hidden;text-align: left;background-color: #f0f8ff;}#sk-container-id-1 div.sk-toggleable__content pre {margin: 0.2em;color: black;border-radius: 0.25em;background-color: #f0f8ff;}#sk-container-id-1 input.sk-toggleable__control:checked~div.sk-toggleable__content {max-height: 200px;max-width: 100%;overflow: auto;}#sk-container-id-1 input.sk-toggleable__control:checked~label.sk-toggleable__label-arrow:before {content: \"▾\";}#sk-container-id-1 div.sk-estimator input.sk-toggleable__control:checked~label.sk-toggleable__label {background-color: #d4ebff;}#sk-container-id-1 div.sk-label input.sk-toggleable__control:checked~label.sk-toggleable__label {background-color: #d4ebff;}#sk-container-id-1 input.sk-hidden--visually {border: 0;clip: rect(1px 1px 1px 1px);clip: rect(1px, 1px, 1px, 1px);height: 1px;margin: -1px;overflow: hidden;padding: 0;position: absolute;width: 1px;}#sk-container-id-1 div.sk-estimator {font-family: monospace;background-color: #f0f8ff;border: 1px dotted black;border-radius: 0.25em;box-sizing: border-box;margin-bottom: 0.5em;}#sk-container-id-1 div.sk-estimator:hover {background-color: #d4ebff;}#sk-container-id-1 div.sk-parallel-item::after {content: \"\";width: 100%;border-bottom: 1px solid gray;flex-grow: 1;}#sk-container-id-1 div.sk-label:hover label.sk-toggleable__label {background-color: #d4ebff;}#sk-container-id-1 div.sk-serial::before {content: \"\";position: absolute;border-left: 1px solid gray;box-sizing: border-box;top: 0;bottom: 0;left: 50%;z-index: 0;}#sk-container-id-1 div.sk-serial {display: flex;flex-direction: column;align-items: center;background-color: white;padding-right: 0.2em;padding-left: 0.2em;position: relative;}#sk-container-id-1 div.sk-item {position: relative;z-index: 1;}#sk-container-id-1 div.sk-parallel {display: flex;align-items: stretch;justify-content: center;background-color: white;position: relative;}#sk-container-id-1 div.sk-item::before, #sk-container-id-1 div.sk-parallel-item::before {content: \"\";position: absolute;border-left: 1px solid gray;box-sizing: border-box;top: 0;bottom: 0;left: 50%;z-index: -1;}#sk-container-id-1 div.sk-parallel-item {display: flex;flex-direction: column;z-index: 1;position: relative;background-color: white;}#sk-container-id-1 div.sk-parallel-item:first-child::after {align-self: flex-end;width: 50%;}#sk-container-id-1 div.sk-parallel-item:last-child::after {align-self: flex-start;width: 50%;}#sk-container-id-1 div.sk-parallel-item:only-child::after {width: 0;}#sk-container-id-1 div.sk-dashed-wrapped {border: 1px dashed gray;margin: 0 0.4em 0.5em 0.4em;box-sizing: border-box;padding-bottom: 0.4em;background-color: white;}#sk-container-id-1 div.sk-label label {font-family: monospace;font-weight: bold;display: inline-block;line-height: 1.2em;}#sk-container-id-1 div.sk-label-container {text-align: center;}#sk-container-id-1 div.sk-container {/* jupyter's `normalize.less` sets `[hidden] { display: none; }` but bootstrap.min.css set `[hidden] { display: none !important; }` so we also need the `!important` here to be able to override the default hidden behavior on the sphinx rendered scikit-learn.org. See: https://github.com/scikit-learn/scikit-learn/issues/21755 */display: inline-block !important;position: relative;}#sk-container-id-1 div.sk-text-repr-fallback {display: none;}</style><div id=\"sk-container-id-1\" class=\"sk-top-container\"><div class=\"sk-text-repr-fallback\"><pre>DecisionTreeClassifier(criterion=&#x27;entropy&#x27;, random_state=0)</pre><b>In a Jupyter environment, please rerun this cell to show the HTML representation or trust the notebook. <br />On GitHub, the HTML representation is unable to render, please try loading this page with nbviewer.org.</b></div><div class=\"sk-container\" hidden><div class=\"sk-item\"><div class=\"sk-estimator sk-toggleable\"><input class=\"sk-toggleable__control sk-hidden--visually\" id=\"sk-estimator-id-1\" type=\"checkbox\" checked><label for=\"sk-estimator-id-1\" class=\"sk-toggleable__label sk-toggleable__label-arrow\">DecisionTreeClassifier</label><div class=\"sk-toggleable__content\"><pre>DecisionTreeClassifier(criterion=&#x27;entropy&#x27;, random_state=0)</pre></div></div></div></div></div>"
      ],
      "text/plain": [
       "DecisionTreeClassifier(criterion='entropy', random_state=0)"
      ]
     },
     "execution_count": 16,
     "metadata": {},
     "output_type": "execute_result"
    }
   ],
   "source": [
    "from sklearn.tree import DecisionTreeClassifier\n",
    "DTC = DecisionTreeClassifier(criterion = 'entropy', random_state = 0)\n",
    "DTC.fit(X_train, y_train)"
   ]
  },
  {
   "cell_type": "code",
   "execution_count": 17,
   "id": "fd71cce2",
   "metadata": {
    "execution": {
     "iopub.execute_input": "2024-03-01T11:46:19.788806Z",
     "iopub.status.busy": "2024-03-01T11:46:19.788145Z",
     "iopub.status.idle": "2024-03-01T11:46:19.793085Z",
     "shell.execute_reply": "2024-03-01T11:46:19.792151Z"
    },
    "papermill": {
     "duration": 0.021404,
     "end_time": "2024-03-01T11:46:19.795431",
     "exception": false,
     "start_time": "2024-03-01T11:46:19.774027",
     "status": "completed"
    },
    "tags": []
   },
   "outputs": [],
   "source": [
    "y_pred = DTC.predict(X_test)"
   ]
  },
  {
   "cell_type": "code",
   "execution_count": 18,
   "id": "ebc00956",
   "metadata": {
    "execution": {
     "iopub.execute_input": "2024-03-01T11:46:19.824060Z",
     "iopub.status.busy": "2024-03-01T11:46:19.823261Z",
     "iopub.status.idle": "2024-03-01T11:46:19.832753Z",
     "shell.execute_reply": "2024-03-01T11:46:19.830971Z"
    },
    "papermill": {
     "duration": 0.027021,
     "end_time": "2024-03-01T11:46:19.835372",
     "exception": false,
     "start_time": "2024-03-01T11:46:19.808351",
     "status": "completed"
    },
    "tags": []
   },
   "outputs": [
    {
     "name": "stdout",
     "output_type": "stream",
     "text": [
      "[[84  6]\n",
      " [ 1 52]]\n",
      "0.951048951048951\n"
     ]
    }
   ],
   "source": [
    "from sklearn.metrics import confusion_matrix, accuracy_score\n",
    "cm = confusion_matrix(y_test, y_pred)\n",
    "print(cm)\n",
    "a=accuracy_score(y_test, y_pred)\n",
    "print(a)"
   ]
  },
  {
   "cell_type": "code",
   "execution_count": 19,
   "id": "93a85777",
   "metadata": {
    "execution": {
     "iopub.execute_input": "2024-03-01T11:46:19.928620Z",
     "iopub.status.busy": "2024-03-01T11:46:19.928192Z",
     "iopub.status.idle": "2024-03-01T11:46:20.256779Z",
     "shell.execute_reply": "2024-03-01T11:46:20.254565Z"
    },
    "papermill": {
     "duration": 0.348573,
     "end_time": "2024-03-01T11:46:20.262026",
     "exception": false,
     "start_time": "2024-03-01T11:46:19.913453",
     "status": "completed"
    },
    "tags": []
   },
   "outputs": [
    {
     "name": "stdout",
     "output_type": "stream",
     "text": [
      "True Negative: 84\n",
      "False Negative: 1\n",
      "False pasitive: 6\n",
      "True positive: 52\n"
     ]
    },
    {
     "data": {
      "image/png": "[encoded data removed]",
      "text/plain": [
       "<Figure size 500x500 with 2 Axes>"
      ]
     },
     "metadata": {},
     "output_type": "display_data"
    }
   ],
   "source": [
    "plt.figure(figsize=(5,5)) \n",
    "sns.heatmap(cm,annot=True , linewidth=0.5) \n",
    "print('True Negative:',cm[0,0])\n",
    "print('False Negative:',cm[1,0])\n",
    "print('False pasitive:',cm[0,1])\n",
    "print('True positive:',cm[1,1])\n"
   ]
  },
  {
   "cell_type": "markdown",
   "id": "0a073291",
   "metadata": {
    "papermill": {
     "duration": 0.014203,
     "end_time": "2024-03-01T11:46:20.293045",
     "exception": false,
     "start_time": "2024-03-01T11:46:20.278842",
     "status": "completed"
    },
    "tags": []
   },
   "source": [
    "# Random Forest Classification"
   ]
  },
  {
   "cell_type": "code",
   "execution_count": 20,
   "id": "dedcd1fa",
   "metadata": {
    "execution": {
     "iopub.execute_input": "2024-03-01T11:46:20.323905Z",
     "iopub.status.busy": "2024-03-01T11:46:20.322718Z",
     "iopub.status.idle": "2024-03-01T11:46:20.475337Z",
     "shell.execute_reply": "2024-03-01T11:46:20.473419Z"
    },
    "papermill": {
     "duration": 0.171202,
     "end_time": "2024-03-01T11:46:20.478599",
     "exception": false,
     "start_time": "2024-03-01T11:46:20.307397",
     "status": "completed"
    },
    "tags": []
   },
   "outputs": [
    {
     "data": {
      "text/html": [
       "<style>#sk-container-id-2 {color: black;background-color: white;}#sk-container-id-2 pre{padding: 0;}#sk-container-id-2 div.sk-toggleable {background-color: white;}#sk-container-id-2 label.sk-toggleable__label {cursor: pointer;display: block;width: 100%;margin-bottom: 0;padding: 0.3em;box-sizing: border-box;text-align: center;}#sk-container-id-2 label.sk-toggleable__label-arrow:before {content: \"▸\";float: left;margin-right: 0.25em;color: #696969;}#sk-container-id-2 label.sk-toggleable__label-arrow:hover:before {color: black;}#sk-container-id-2 div.sk-estimator:hover label.sk-toggleable__label-arrow:before {color: black;}#sk-container-id-2 div.sk-toggleable__content {max-height: 0;max-width: 0;overflow: hidden;text-align: left;background-color: #f0f8ff;}#sk-container-id-2 div.sk-toggleable__content pre {margin: 0.2em;color: black;border-radius: 0.25em;background-color: #f0f8ff;}#sk-container-id-2 input.sk-toggleable__control:checked~div.sk-toggleable__content {max-height: 200px;max-width: 100%;overflow: auto;}#sk-container-id-2 input.sk-toggleable__control:checked~label.sk-toggleable__label-arrow:before {content: \"▾\";}#sk-container-id-2 div.sk-estimator input.sk-toggleable__control:checked~label.sk-toggleable__label {background-color: #d4ebff;}#sk-container-id-2 div.sk-label input.sk-toggleable__control:checked~label.sk-toggleable__label {background-color: #d4ebff;}#sk-container-id-2 input.sk-hidden--visually {border: 0;clip: rect(1px 1px 1px 1px);clip: rect(1px, 1px, 1px, 1px);height: 1px;margin: -1px;overflow: hidden;padding: 0;position: absolute;width: 1px;}#sk-container-id-2 div.sk-estimator {font-family: monospace;background-color: #f0f8ff;border: 1px dotted black;border-radius: 0.25em;box-sizing: border-box;margin-bottom: 0.5em;}#sk-container-id-2 div.sk-estimator:hover {background-color: #d4ebff;}#sk-container-id-2 div.sk-parallel-item::after {content: \"\";width: 100%;border-bottom: 1px solid gray;flex-grow: 1;}#sk-container-id-2 div.sk-label:hover label.sk-toggleable__label {background-color: #d4ebff;}#sk-container-id-2 div.sk-serial::before {content: \"\";position: absolute;border-left: 1px solid gray;box-sizing: border-box;top: 0;bottom: 0;left: 50%;z-index: 0;}#sk-container-id-2 div.sk-serial {display: flex;flex-direction: column;align-items: center;background-color: white;padding-right: 0.2em;padding-left: 0.2em;position: relative;}#sk-container-id-2 div.sk-item {position: relative;z-index: 1;}#sk-container-id-2 div.sk-parallel {display: flex;align-items: stretch;justify-content: center;background-color: white;position: relative;}#sk-container-id-2 div.sk-item::before, #sk-container-id-2 div.sk-parallel-item::before {content: \"\";position: absolute;border-left: 1px solid gray;box-sizing: border-box;top: 0;bottom: 0;left: 50%;z-index: -1;}#sk-container-id-2 div.sk-parallel-item {display: flex;flex-direction: column;z-index: 1;position: relative;background-color: white;}#sk-container-id-2 div.sk-parallel-item:first-child::after {align-self: flex-end;width: 50%;}#sk-container-id-2 div.sk-parallel-item:last-child::after {align-self: flex-start;width: 50%;}#sk-container-id-2 div.sk-parallel-item:only-child::after {width: 0;}#sk-container-id-2 div.sk-dashed-wrapped {border: 1px dashed gray;margin: 0 0.4em 0.5em 0.4em;box-sizing: border-box;padding-bottom: 0.4em;background-color: white;}#sk-container-id-2 div.sk-label label {font-family: monospace;font-weight: bold;display: inline-block;line-height: 1.2em;}#sk-container-id-2 div.sk-label-container {text-align: center;}#sk-container-id-2 div.sk-container {/* jupyter's `normalize.less` sets `[hidden] { display: none; }` but bootstrap.min.css set `[hidden] { display: none !important; }` so we also need the `!important` here to be able to override the default hidden behavior on the sphinx rendered scikit-learn.org. See: https://github.com/scikit-learn/scikit-learn/issues/21755 */display: inline-block !important;position: relative;}#sk-container-id-2 div.sk-text-repr-fallback {display: none;}</style><div id=\"sk-container-id-2\" class=\"sk-top-container\"><div class=\"sk-text-repr-fallback\"><pre>RandomForestClassifier(criterion=&#x27;entropy&#x27;, n_estimators=20, random_state=42)</pre><b>In a Jupyter environment, please rerun this cell to show the HTML representation or trust the notebook. <br />On GitHub, the HTML representation is unable to render, please try loading this page with nbviewer.org.</b></div><div class=\"sk-container\" hidden><div class=\"sk-item\"><div class=\"sk-estimator sk-toggleable\"><input class=\"sk-toggleable__control sk-hidden--visually\" id=\"sk-estimator-id-2\" type=\"checkbox\" checked><label for=\"sk-estimator-id-2\" class=\"sk-toggleable__label sk-toggleable__label-arrow\">RandomForestClassifier</label><div class=\"sk-toggleable__content\"><pre>RandomForestClassifier(criterion=&#x27;entropy&#x27;, n_estimators=20, random_state=42)</pre></div></div></div></div></div>"
      ],
      "text/plain": [
       "RandomForestClassifier(criterion='entropy', n_estimators=20, random_state=42)"
      ]
     },
     "execution_count": 20,
     "metadata": {},
     "output_type": "execute_result"
    }
   ],
   "source": [
    "from sklearn.ensemble import RandomForestClassifier\n",
    "RFC = RandomForestClassifier(n_estimators = 20, criterion = 'entropy', random_state = 42)\n",
    "RFC.fit(X_train, y_train)"
   ]
  },
  {
   "cell_type": "code",
   "execution_count": 21,
   "id": "04f0acd7",
   "metadata": {
    "execution": {
     "iopub.execute_input": "2024-03-01T11:46:20.513175Z",
     "iopub.status.busy": "2024-03-01T11:46:20.512653Z",
     "iopub.status.idle": "2024-03-01T11:46:20.525311Z",
     "shell.execute_reply": "2024-03-01T11:46:20.523955Z"
    },
    "papermill": {
     "duration": 0.035685,
     "end_time": "2024-03-01T11:46:20.529639",
     "exception": false,
     "start_time": "2024-03-01T11:46:20.493954",
     "status": "completed"
    },
    "tags": []
   },
   "outputs": [],
   "source": [
    "y_pred1 = RFC.predict(X_test)\n"
   ]
  },
  {
   "cell_type": "code",
   "execution_count": 22,
   "id": "aa64293c",
   "metadata": {
    "execution": {
     "iopub.execute_input": "2024-03-01T11:46:20.570792Z",
     "iopub.status.busy": "2024-03-01T11:46:20.570006Z",
     "iopub.status.idle": "2024-03-01T11:46:20.580662Z",
     "shell.execute_reply": "2024-03-01T11:46:20.579255Z"
    },
    "papermill": {
     "duration": 0.034944,
     "end_time": "2024-03-01T11:46:20.583307",
     "exception": false,
     "start_time": "2024-03-01T11:46:20.548363",
     "status": "completed"
    },
    "tags": []
   },
   "outputs": [
    {
     "name": "stdout",
     "output_type": "stream",
     "text": [
      "[[88  2]\n",
      " [ 1 52]]\n",
      "0.9790209790209791\n"
     ]
    }
   ],
   "source": [
    "cm1 = confusion_matrix(y_test, y_pred1)\n",
    "print(cm1)\n",
    "b=accuracy_score(y_test, y_pred1)\n",
    "print(b)"
   ]
  },
  {
   "cell_type": "code",
   "execution_count": 23,
   "id": "7265010e",
   "metadata": {
    "execution": {
     "iopub.execute_input": "2024-03-01T11:46:20.631478Z",
     "iopub.status.busy": "2024-03-01T11:46:20.630832Z",
     "iopub.status.idle": "2024-03-01T11:46:20.992189Z",
     "shell.execute_reply": "2024-03-01T11:46:20.989881Z"
    },
    "papermill": {
     "duration": 0.389655,
     "end_time": "2024-03-01T11:46:20.996887",
     "exception": false,
     "start_time": "2024-03-01T11:46:20.607232",
     "status": "completed"
    },
    "tags": []
   },
   "outputs": [
    {
     "name": "stdout",
     "output_type": "stream",
     "text": [
      "True Negative: 88\n",
      "False Negative: 1\n",
      "False pasitive: 2\n",
      "True positive: 52\n"
     ]
    },
    {
     "data": {
      "image/png": "[encoded data removed]",
      "text/plain": [
       "<Figure size 500x500 with 2 Axes>"
      ]
     },
     "metadata": {},
     "output_type": "display_data"
    }
   ],
   "source": [
    "plt.figure(figsize=(5,5)) \n",
    "sns.heatmap(cm1,annot=True , linewidth=0.5) \n",
    "print('True Negative:',cm1[0,0])\n",
    "print('False Negative:',cm1[1,0])\n",
    "print('False pasitive:',cm1[0,1])\n",
    "print('True positive:',cm1[1,1])\n"
   ]
  },
  {
   "cell_type": "markdown",
   "id": "c89b166a",
   "metadata": {
    "papermill": {
     "duration": 0.024978,
     "end_time": "2024-03-01T11:46:21.049353",
     "exception": false,
     "start_time": "2024-03-01T11:46:21.024375",
     "status": "completed"
    },
    "tags": []
   },
   "source": [
    "# K-Nearest Neighbors (K-NN)"
   ]
  },
  {
   "cell_type": "code",
   "execution_count": 24,
   "id": "f0c14bbe",
   "metadata": {
    "execution": {
     "iopub.execute_input": "2024-03-01T11:46:21.087148Z",
     "iopub.status.busy": "2024-03-01T11:46:21.086706Z",
     "iopub.status.idle": "2024-03-01T11:46:21.096977Z",
     "shell.execute_reply": "2024-03-01T11:46:21.095782Z"
    },
    "papermill": {
     "duration": 0.028506,
     "end_time": "2024-03-01T11:46:21.099299",
     "exception": false,
     "start_time": "2024-03-01T11:46:21.070793",
     "status": "completed"
    },
    "tags": []
   },
   "outputs": [
    {
     "data": {
      "text/html": [
       "<style>#sk-container-id-3 {color: black;background-color: white;}#sk-container-id-3 pre{padding: 0;}#sk-container-id-3 div.sk-toggleable {background-color: white;}#sk-container-id-3 label.sk-toggleable__label {cursor: pointer;display: block;width: 100%;margin-bottom: 0;padding: 0.3em;box-sizing: border-box;text-align: center;}#sk-container-id-3 label.sk-toggleable__label-arrow:before {content: \"▸\";float: left;margin-right: 0.25em;color: #696969;}#sk-container-id-3 label.sk-toggleable__label-arrow:hover:before {color: black;}#sk-container-id-3 div.sk-estimator:hover label.sk-toggleable__label-arrow:before {color: black;}#sk-container-id-3 div.sk-toggleable__content {max-height: 0;max-width: 0;overflow: hidden;text-align: left;background-color: #f0f8ff;}#sk-container-id-3 div.sk-toggleable__content pre {margin: 0.2em;color: black;border-radius: 0.25em;background-color: #f0f8ff;}#sk-container-id-3 input.sk-toggleable__control:checked~div.sk-toggleable__content {max-height: 200px;max-width: 100%;overflow: auto;}#sk-container-id-3 input.sk-toggleable__control:checked~label.sk-toggleable__label-arrow:before {content: \"▾\";}#sk-container-id-3 div.sk-estimator input.sk-toggleable__control:checked~label.sk-toggleable__label {background-color: #d4ebff;}#sk-container-id-3 div.sk-label input.sk-toggleable__control:checked~label.sk-toggleable__label {background-color: #d4ebff;}#sk-container-id-3 input.sk-hidden--visually {border: 0;clip: rect(1px 1px 1px 1px);clip: rect(1px, 1px, 1px, 1px);height: 1px;margin: -1px;overflow: hidden;padding: 0;position: absolute;width: 1px;}#sk-container-id-3 div.sk-estimator {font-family: monospace;background-color: #f0f8ff;border: 1px dotted black;border-radius: 0.25em;box-sizing: border-box;margin-bottom: 0.5em;}#sk-container-id-3 div.sk-estimator:hover {background-color: #d4ebff;}#sk-container-id-3 div.sk-parallel-item::after {content: \"\";width: 100%;border-bottom: 1px solid gray;flex-grow: 1;}#sk-container-id-3 div.sk-label:hover label.sk-toggleable__label {background-color: #d4ebff;}#sk-container-id-3 div.sk-serial::before {content: \"\";position: absolute;border-left: 1px solid gray;box-sizing: border-box;top: 0;bottom: 0;left: 50%;z-index: 0;}#sk-container-id-3 div.sk-serial {display: flex;flex-direction: column;align-items: center;background-color: white;padding-right: 0.2em;padding-left: 0.2em;position: relative;}#sk-container-id-3 div.sk-item {position: relative;z-index: 1;}#sk-container-id-3 div.sk-parallel {display: flex;align-items: stretch;justify-content: center;background-color: white;position: relative;}#sk-container-id-3 div.sk-item::before, #sk-container-id-3 div.sk-parallel-item::before {content: \"\";position: absolute;border-left: 1px solid gray;box-sizing: border-box;top: 0;bottom: 0;left: 50%;z-index: -1;}#sk-container-id-3 div.sk-parallel-item {display: flex;flex-direction: column;z-index: 1;position: relative;background-color: white;}#sk-container-id-3 div.sk-parallel-item:first-child::after {align-self: flex-end;width: 50%;}#sk-container-id-3 div.sk-parallel-item:last-child::after {align-self: flex-start;width: 50%;}#sk-container-id-3 div.sk-parallel-item:only-child::after {width: 0;}#sk-container-id-3 div.sk-dashed-wrapped {border: 1px dashed gray;margin: 0 0.4em 0.5em 0.4em;box-sizing: border-box;padding-bottom: 0.4em;background-color: white;}#sk-container-id-3 div.sk-label label {font-family: monospace;font-weight: bold;display: inline-block;line-height: 1.2em;}#sk-container-id-3 div.sk-label-container {text-align: center;}#sk-container-id-3 div.sk-container {/* jupyter's `normalize.less` sets `[hidden] { display: none; }` but bootstrap.min.css set `[hidden] { display: none !important; }` so we also need the `!important` here to be able to override the default hidden behavior on the sphinx rendered scikit-learn.org. See: https://github.com/scikit-learn/scikit-learn/issues/21755 */display: inline-block !important;position: relative;}#sk-container-id-3 div.sk-text-repr-fallback {display: none;}</style><div id=\"sk-container-id-3\" class=\"sk-top-container\"><div class=\"sk-text-repr-fallback\"><pre>KNeighborsClassifier()</pre><b>In a Jupyter environment, please rerun this cell to show the HTML representation or trust the notebook. <br />On GitHub, the HTML representation is unable to render, please try loading this page with nbviewer.org.</b></div><div class=\"sk-container\" hidden><div class=\"sk-item\"><div class=\"sk-estimator sk-toggleable\"><input class=\"sk-toggleable__control sk-hidden--visually\" id=\"sk-estimator-id-3\" type=\"checkbox\" checked><label for=\"sk-estimator-id-3\" class=\"sk-toggleable__label sk-toggleable__label-arrow\">KNeighborsClassifier</label><div class=\"sk-toggleable__content\"><pre>KNeighborsClassifier()</pre></div></div></div></div></div>"
      ],
      "text/plain": [
       "KNeighborsClassifier()"
      ]
     },
     "execution_count": 24,
     "metadata": {},
     "output_type": "execute_result"
    }
   ],
   "source": [
    "from sklearn.neighbors import KNeighborsClassifier\n",
    "KNN = KNeighborsClassifier(n_neighbors = 5, metric = 'minkowski', p = 2)\n",
    "KNN.fit(X_train, y_train)"
   ]
  },
  {
   "cell_type": "code",
   "execution_count": 25,
   "id": "931823e2",
   "metadata": {
    "execution": {
     "iopub.execute_input": "2024-03-01T11:46:21.130071Z",
     "iopub.status.busy": "2024-03-01T11:46:21.128918Z",
     "iopub.status.idle": "2024-03-01T11:46:21.196276Z",
     "shell.execute_reply": "2024-03-01T11:46:21.194917Z"
    },
    "papermill": {
     "duration": 0.087097,
     "end_time": "2024-03-01T11:46:21.200372",
     "exception": false,
     "start_time": "2024-03-01T11:46:21.113275",
     "status": "completed"
    },
    "tags": []
   },
   "outputs": [],
   "source": [
    "y_pred2 = KNN.predict(X_test)\n"
   ]
  },
  {
   "cell_type": "code",
   "execution_count": 26,
   "id": "edde50b0",
   "metadata": {
    "execution": {
     "iopub.execute_input": "2024-03-01T11:46:21.233340Z",
     "iopub.status.busy": "2024-03-01T11:46:21.232570Z",
     "iopub.status.idle": "2024-03-01T11:46:21.241492Z",
     "shell.execute_reply": "2024-03-01T11:46:21.240117Z"
    },
    "papermill": {
     "duration": 0.029578,
     "end_time": "2024-03-01T11:46:21.244616",
     "exception": false,
     "start_time": "2024-03-01T11:46:21.215038",
     "status": "completed"
    },
    "tags": []
   },
   "outputs": [
    {
     "name": "stdout",
     "output_type": "stream",
     "text": [
      "[[89  1]\n",
      " [ 5 48]]\n",
      "0.958041958041958\n"
     ]
    }
   ],
   "source": [
    "cm2 = confusion_matrix(y_test, y_pred2)\n",
    "print(cm2)\n",
    "c=accuracy_score(y_test, y_pred2)\n",
    "print(c)"
   ]
  },
  {
   "cell_type": "code",
   "execution_count": 27,
   "id": "567b371f",
   "metadata": {
    "execution": {
     "iopub.execute_input": "2024-03-01T11:46:21.280757Z",
     "iopub.status.busy": "2024-03-01T11:46:21.279392Z",
     "iopub.status.idle": "2024-03-01T11:46:21.597541Z",
     "shell.execute_reply": "2024-03-01T11:46:21.596032Z"
    },
    "papermill": {
     "duration": 0.341579,
     "end_time": "2024-03-01T11:46:21.601030",
     "exception": false,
     "start_time": "2024-03-01T11:46:21.259451",
     "status": "completed"
    },
    "tags": []
   },
   "outputs": [
    {
     "name": "stdout",
     "output_type": "stream",
     "text": [
      "True Negative: 89\n",
      "False Negative: 5\n",
      "False pasitive: 1\n",
      "True positive: 48\n"
     ]
    },
    {
     "data": {
      "image/png": "[encoded data removed]",
      "text/plain": [
       "<Figure size 500x500 with 2 Axes>"
      ]
     },
     "metadata": {},
     "output_type": "display_data"
    }
   ],
   "source": [
    "plt.figure(figsize=(5,5)) \n",
    "sns.heatmap(cm2,annot=True , linewidth=0.5) \n",
    "print('True Negative:',cm2[0,0])\n",
    "print('False Negative:',cm2[1,0])\n",
    "print('False pasitive:',cm2[0,1])\n",
    "print('True positive:',cm2[1,1])\n"
   ]
  },
  {
   "cell_type": "markdown",
   "id": "c1b3c1f4",
   "metadata": {
    "papermill": {
     "duration": 0.015097,
     "end_time": "2024-03-01T11:46:21.632294",
     "exception": false,
     "start_time": "2024-03-01T11:46:21.617197",
     "status": "completed"
    },
    "tags": []
   },
   "source": [
    "# Logistic Regression"
   ]
  },
  {
   "cell_type": "code",
   "execution_count": 28,
   "id": "9dd649fc",
   "metadata": {
    "execution": {
     "iopub.execute_input": "2024-03-01T11:46:21.666497Z",
     "iopub.status.busy": "2024-03-01T11:46:21.666052Z",
     "iopub.status.idle": "2024-03-01T11:46:21.699039Z",
     "shell.execute_reply": "2024-03-01T11:46:21.697596Z"
    },
    "papermill": {
     "duration": 0.055439,
     "end_time": "2024-03-01T11:46:21.703066",
     "exception": false,
     "start_time": "2024-03-01T11:46:21.647627",
     "status": "completed"
    },
    "tags": []
   },
   "outputs": [
    {
     "data": {
      "text/html": [
       "<style>#sk-container-id-4 {color: black;background-color: white;}#sk-container-id-4 pre{padding: 0;}#sk-container-id-4 div.sk-toggleable {background-color: white;}#sk-container-id-4 label.sk-toggleable__label {cursor: pointer;display: block;width: 100%;margin-bottom: 0;padding: 0.3em;box-sizing: border-box;text-align: center;}#sk-container-id-4 label.sk-toggleable__label-arrow:before {content: \"▸\";float: left;margin-right: 0.25em;color: #696969;}#sk-container-id-4 label.sk-toggleable__label-arrow:hover:before {color: black;}#sk-container-id-4 div.sk-estimator:hover label.sk-toggleable__label-arrow:before {color: black;}#sk-container-id-4 div.sk-toggleable__content {max-height: 0;max-width: 0;overflow: hidden;text-align: left;background-color: #f0f8ff;}#sk-container-id-4 div.sk-toggleable__content pre {margin: 0.2em;color: black;border-radius: 0.25em;background-color: #f0f8ff;}#sk-container-id-4 input.sk-toggleable__control:checked~div.sk-toggleable__content {max-height: 200px;max-width: 100%;overflow: auto;}#sk-container-id-4 input.sk-toggleable__control:checked~label.sk-toggleable__label-arrow:before {content: \"▾\";}#sk-container-id-4 div.sk-estimator input.sk-toggleable__control:checked~label.sk-toggleable__label {background-color: #d4ebff;}#sk-container-id-4 div.sk-label input.sk-toggleable__control:checked~label.sk-toggleable__label {background-color: #d4ebff;}#sk-container-id-4 input.sk-hidden--visually {border: 0;clip: rect(1px 1px 1px 1px);clip: rect(1px, 1px, 1px, 1px);height: 1px;margin: -1px;overflow: hidden;padding: 0;position: absolute;width: 1px;}#sk-container-id-4 div.sk-estimator {font-family: monospace;background-color: #f0f8ff;border: 1px dotted black;border-radius: 0.25em;box-sizing: border-box;margin-bottom: 0.5em;}#sk-container-id-4 div.sk-estimator:hover {background-color: #d4ebff;}#sk-container-id-4 div.sk-parallel-item::after {content: \"\";width: 100%;border-bottom: 1px solid gray;flex-grow: 1;}#sk-container-id-4 div.sk-label:hover label.sk-toggleable__label {background-color: #d4ebff;}#sk-container-id-4 div.sk-serial::before {content: \"\";position: absolute;border-left: 1px solid gray;box-sizing: border-box;top: 0;bottom: 0;left: 50%;z-index: 0;}#sk-container-id-4 div.sk-serial {display: flex;flex-direction: column;align-items: center;background-color: white;padding-right: 0.2em;padding-left: 0.2em;position: relative;}#sk-container-id-4 div.sk-item {position: relative;z-index: 1;}#sk-container-id-4 div.sk-parallel {display: flex;align-items: stretch;justify-content: center;background-color: white;position: relative;}#sk-container-id-4 div.sk-item::before, #sk-container-id-4 div.sk-parallel-item::before {content: \"\";position: absolute;border-left: 1px solid gray;box-sizing: border-box;top: 0;bottom: 0;left: 50%;z-index: -1;}#sk-container-id-4 div.sk-parallel-item {display: flex;flex-direction: column;z-index: 1;position: relative;background-color: white;}#sk-container-id-4 div.sk-parallel-item:first-child::after {align-self: flex-end;width: 50%;}#sk-container-id-4 div.sk-parallel-item:last-child::after {align-self: flex-start;width: 50%;}#sk-container-id-4 div.sk-parallel-item:only-child::after {width: 0;}#sk-container-id-4 div.sk-dashed-wrapped {border: 1px dashed gray;margin: 0 0.4em 0.5em 0.4em;box-sizing: border-box;padding-bottom: 0.4em;background-color: white;}#sk-container-id-4 div.sk-label label {font-family: monospace;font-weight: bold;display: inline-block;line-height: 1.2em;}#sk-container-id-4 div.sk-label-container {text-align: center;}#sk-container-id-4 div.sk-container {/* jupyter's `normalize.less` sets `[hidden] { display: none; }` but bootstrap.min.css set `[hidden] { display: none !important; }` so we also need the `!important` here to be able to override the default hidden behavior on the sphinx rendered scikit-learn.org. See: https://github.com/scikit-learn/scikit-learn/issues/21755 */display: inline-block !important;position: relative;}#sk-container-id-4 div.sk-text-repr-fallback {display: none;}</style><div id=\"sk-container-id-4\" class=\"sk-top-container\"><div class=\"sk-text-repr-fallback\"><pre>LogisticRegression(random_state=0)</pre><b>In a Jupyter environment, please rerun this cell to show the HTML representation or trust the notebook. <br />On GitHub, the HTML representation is unable to render, please try loading this page with nbviewer.org.</b></div><div class=\"sk-container\" hidden><div class=\"sk-item\"><div class=\"sk-estimator sk-toggleable\"><input class=\"sk-toggleable__control sk-hidden--visually\" id=\"sk-estimator-id-4\" type=\"checkbox\" checked><label for=\"sk-estimator-id-4\" class=\"sk-toggleable__label sk-toggleable__label-arrow\">LogisticRegression</label><div class=\"sk-toggleable__content\"><pre>LogisticRegression(random_state=0)</pre></div></div></div></div></div>"
      ],
      "text/plain": [
       "LogisticRegression(random_state=0)"
      ]
     },
     "execution_count": 28,
     "metadata": {},
     "output_type": "execute_result"
    }
   ],
   "source": [
    "from sklearn.linear_model import LogisticRegression\n",
    "LR = LogisticRegression(random_state = 0)\n",
    "LR.fit(X_train, y_train)"
   ]
  },
  {
   "cell_type": "code",
   "execution_count": 29,
   "id": "a4ddd1c6",
   "metadata": {
    "execution": {
     "iopub.execute_input": "2024-03-01T11:46:21.759764Z",
     "iopub.status.busy": "2024-03-01T11:46:21.759004Z",
     "iopub.status.idle": "2024-03-01T11:46:21.769110Z",
     "shell.execute_reply": "2024-03-01T11:46:21.766858Z"
    },
    "papermill": {
     "duration": 0.041991,
     "end_time": "2024-03-01T11:46:21.772981",
     "exception": false,
     "start_time": "2024-03-01T11:46:21.730990",
     "status": "completed"
    },
    "tags": []
   },
   "outputs": [],
   "source": [
    "y_pred3 = LR.predict(X_test)\n"
   ]
  },
  {
   "cell_type": "code",
   "execution_count": 30,
   "id": "15f88c09",
   "metadata": {
    "execution": {
     "iopub.execute_input": "2024-03-01T11:46:21.823861Z",
     "iopub.status.busy": "2024-03-01T11:46:21.823287Z",
     "iopub.status.idle": "2024-03-01T11:46:21.834887Z",
     "shell.execute_reply": "2024-03-01T11:46:21.832581Z"
    },
    "papermill": {
     "duration": 0.036898,
     "end_time": "2024-03-01T11:46:21.837277",
     "exception": false,
     "start_time": "2024-03-01T11:46:21.800379",
     "status": "completed"
    },
    "tags": []
   },
   "outputs": [
    {
     "name": "stdout",
     "output_type": "stream",
     "text": [
      "[[86  4]\n",
      " [ 4 49]]\n",
      "0.9440559440559441\n"
     ]
    }
   ],
   "source": [
    "cm3 = confusion_matrix(y_test, y_pred3)\n",
    "print(cm3)\n",
    "d=accuracy_score(y_test, y_pred3)\n",
    "print(d)"
   ]
  },
  {
   "cell_type": "code",
   "execution_count": 31,
   "id": "9d6b10ca",
   "metadata": {
    "execution": {
     "iopub.execute_input": "2024-03-01T11:46:21.872027Z",
     "iopub.status.busy": "2024-03-01T11:46:21.870596Z",
     "iopub.status.idle": "2024-03-01T11:46:22.198262Z",
     "shell.execute_reply": "2024-03-01T11:46:22.196514Z"
    },
    "papermill": {
     "duration": 0.348081,
     "end_time": "2024-03-01T11:46:22.201198",
     "exception": false,
     "start_time": "2024-03-01T11:46:21.853117",
     "status": "completed"
    },
    "tags": []
   },
   "outputs": [
    {
     "name": "stdout",
     "output_type": "stream",
     "text": [
      "True Negative: 86\n",
      "False Negative: 4\n",
      "False pasitive: 4\n",
      "True positive: 49\n"
     ]
    },
    {
     "data": {
      "image/png": "[encoded data removed]",
      "text/plain": [
       "<Figure size 500x500 with 2 Axes>"
      ]
     },
     "metadata": {},
     "output_type": "display_data"
    }
   ],
   "source": [
    "plt.figure(figsize=(5,5)) \n",
    "sns.heatmap(cm3,annot=True , linewidth=0.5) \n",
    "print('True Negative:',cm3[0,0])\n",
    "print('False Negative:',cm3[1,0])\n",
    "print('False pasitive:',cm3[0,1])\n",
    "print('True positive:',cm3[1,1])\n"
   ]
  },
  {
   "cell_type": "markdown",
   "id": "087ff608",
   "metadata": {
    "papermill": {
     "duration": 0.016995,
     "end_time": "2024-03-01T11:46:22.235228",
     "exception": false,
     "start_time": "2024-03-01T11:46:22.218233",
     "status": "completed"
    },
    "tags": []
   },
   "source": [
    "# Naive Bayes"
   ]
  },
  {
   "cell_type": "code",
   "execution_count": 32,
   "id": "5441c027",
   "metadata": {
    "execution": {
     "iopub.execute_input": "2024-03-01T11:46:22.271731Z",
     "iopub.status.busy": "2024-03-01T11:46:22.270722Z",
     "iopub.status.idle": "2024-03-01T11:46:22.283526Z",
     "shell.execute_reply": "2024-03-01T11:46:22.282525Z"
    },
    "papermill": {
     "duration": 0.034312,
     "end_time": "2024-03-01T11:46:22.285805",
     "exception": false,
     "start_time": "2024-03-01T11:46:22.251493",
     "status": "completed"
    },
    "tags": []
   },
   "outputs": [
    {
     "data": {
      "text/html": [
       "<style>#sk-container-id-5 {color: black;background-color: white;}#sk-container-id-5 pre{padding: 0;}#sk-container-id-5 div.sk-toggleable {background-color: white;}#sk-container-id-5 label.sk-toggleable__label {cursor: pointer;display: block;width: 100%;margin-bottom: 0;padding: 0.3em;box-sizing: border-box;text-align: center;}#sk-container-id-5 label.sk-toggleable__label-arrow:before {content: \"▸\";float: left;margin-right: 0.25em;color: #696969;}#sk-container-id-5 label.sk-toggleable__label-arrow:hover:before {color: black;}#sk-container-id-5 div.sk-estimator:hover label.sk-toggleable__label-arrow:before {color: black;}#sk-container-id-5 div.sk-toggleable__content {max-height: 0;max-width: 0;overflow: hidden;text-align: left;background-color: #f0f8ff;}#sk-container-id-5 div.sk-toggleable__content pre {margin: 0.2em;color: black;border-radius: 0.25em;background-color: #f0f8ff;}#sk-container-id-5 input.sk-toggleable__control:checked~div.sk-toggleable__content {max-height: 200px;max-width: 100%;overflow: auto;}#sk-container-id-5 input.sk-toggleable__control:checked~label.sk-toggleable__label-arrow:before {content: \"▾\";}#sk-container-id-5 div.sk-estimator input.sk-toggleable__control:checked~label.sk-toggleable__label {background-color: #d4ebff;}#sk-container-id-5 div.sk-label input.sk-toggleable__control:checked~label.sk-toggleable__label {background-color: #d4ebff;}#sk-container-id-5 input.sk-hidden--visually {border: 0;clip: rect(1px 1px 1px 1px);clip: rect(1px, 1px, 1px, 1px);height: 1px;margin: -1px;overflow: hidden;padding: 0;position: absolute;width: 1px;}#sk-container-id-5 div.sk-estimator {font-family: monospace;background-color: #f0f8ff;border: 1px dotted black;border-radius: 0.25em;box-sizing: border-box;margin-bottom: 0.5em;}#sk-container-id-5 div.sk-estimator:hover {background-color: #d4ebff;}#sk-container-id-5 div.sk-parallel-item::after {content: \"\";width: 100%;border-bottom: 1px solid gray;flex-grow: 1;}#sk-container-id-5 div.sk-label:hover label.sk-toggleable__label {background-color: #d4ebff;}#sk-container-id-5 div.sk-serial::before {content: \"\";position: absolute;border-left: 1px solid gray;box-sizing: border-box;top: 0;bottom: 0;left: 50%;z-index: 0;}#sk-container-id-5 div.sk-serial {display: flex;flex-direction: column;align-items: center;background-color: white;padding-right: 0.2em;padding-left: 0.2em;position: relative;}#sk-container-id-5 div.sk-item {position: relative;z-index: 1;}#sk-container-id-5 div.sk-parallel {display: flex;align-items: stretch;justify-content: center;background-color: white;position: relative;}#sk-container-id-5 div.sk-item::before, #sk-container-id-5 div.sk-parallel-item::before {content: \"\";position: absolute;border-left: 1px solid gray;box-sizing: border-box;top: 0;bottom: 0;left: 50%;z-index: -1;}#sk-container-id-5 div.sk-parallel-item {display: flex;flex-direction: column;z-index: 1;position: relative;background-color: white;}#sk-container-id-5 div.sk-parallel-item:first-child::after {align-self: flex-end;width: 50%;}#sk-container-id-5 div.sk-parallel-item:last-child::after {align-self: flex-start;width: 50%;}#sk-container-id-5 div.sk-parallel-item:only-child::after {width: 0;}#sk-container-id-5 div.sk-dashed-wrapped {border: 1px dashed gray;margin: 0 0.4em 0.5em 0.4em;box-sizing: border-box;padding-bottom: 0.4em;background-color: white;}#sk-container-id-5 div.sk-label label {font-family: monospace;font-weight: bold;display: inline-block;line-height: 1.2em;}#sk-container-id-5 div.sk-label-container {text-align: center;}#sk-container-id-5 div.sk-container {/* jupyter's `normalize.less` sets `[hidden] { display: none; }` but bootstrap.min.css set `[hidden] { display: none !important; }` so we also need the `!important` here to be able to override the default hidden behavior on the sphinx rendered scikit-learn.org. See: https://github.com/scikit-learn/scikit-learn/issues/21755 */display: inline-block !important;position: relative;}#sk-container-id-5 div.sk-text-repr-fallback {display: none;}</style><div id=\"sk-container-id-5\" class=\"sk-top-container\"><div class=\"sk-text-repr-fallback\"><pre>GaussianNB()</pre><b>In a Jupyter environment, please rerun this cell to show the HTML representation or trust the notebook. <br />On GitHub, the HTML representation is unable to render, please try loading this page with nbviewer.org.</b></div><div class=\"sk-container\" hidden><div class=\"sk-item\"><div class=\"sk-estimator sk-toggleable\"><input class=\"sk-toggleable__control sk-hidden--visually\" id=\"sk-estimator-id-5\" type=\"checkbox\" checked><label for=\"sk-estimator-id-5\" class=\"sk-toggleable__label sk-toggleable__label-arrow\">GaussianNB</label><div class=\"sk-toggleable__content\"><pre>GaussianNB()</pre></div></div></div></div></div>"
      ],
      "text/plain": [
       "GaussianNB()"
      ]
     },
     "execution_count": 32,
     "metadata": {},
     "output_type": "execute_result"
    }
   ],
   "source": [
    "from sklearn.naive_bayes import GaussianNB\n",
    "NB = GaussianNB()\n",
    "NB.fit(X_train, y_train)"
   ]
  },
  {
   "cell_type": "code",
   "execution_count": 33,
   "id": "5e6ce89f",
   "metadata": {
    "execution": {
     "iopub.execute_input": "2024-03-01T11:46:22.321066Z",
     "iopub.status.busy": "2024-03-01T11:46:22.320602Z",
     "iopub.status.idle": "2024-03-01T11:46:22.326811Z",
     "shell.execute_reply": "2024-03-01T11:46:22.325631Z"
    },
    "papermill": {
     "duration": 0.027808,
     "end_time": "2024-03-01T11:46:22.329715",
     "exception": false,
     "start_time": "2024-03-01T11:46:22.301907",
     "status": "completed"
    },
    "tags": []
   },
   "outputs": [],
   "source": [
    "y_pred4 = NB.predict(X_test)\n"
   ]
  },
  {
   "cell_type": "code",
   "execution_count": 34,
   "id": "cef9166e",
   "metadata": {
    "execution": {
     "iopub.execute_input": "2024-03-01T11:46:22.364345Z",
     "iopub.status.busy": "2024-03-01T11:46:22.363894Z",
     "iopub.status.idle": "2024-03-01T11:46:22.373011Z",
     "shell.execute_reply": "2024-03-01T11:46:22.371917Z"
    },
    "papermill": {
     "duration": 0.029479,
     "end_time": "2024-03-01T11:46:22.375322",
     "exception": false,
     "start_time": "2024-03-01T11:46:22.345843",
     "status": "completed"
    },
    "tags": []
   },
   "outputs": [
    {
     "name": "stdout",
     "output_type": "stream",
     "text": [
      "[[85  5]\n",
      " [ 6 47]]\n",
      "0.9230769230769231\n"
     ]
    }
   ],
   "source": [
    "cm4 = confusion_matrix(y_test, y_pred4)\n",
    "print(cm4)\n",
    "e=accuracy_score(y_test, y_pred4)\n",
    "print(e)"
   ]
  },
  {
   "cell_type": "code",
   "execution_count": 35,
   "id": "a4ab26ea",
   "metadata": {
    "execution": {
     "iopub.execute_input": "2024-03-01T11:46:22.410445Z",
     "iopub.status.busy": "2024-03-01T11:46:22.409788Z",
     "iopub.status.idle": "2024-03-01T11:46:22.718003Z",
     "shell.execute_reply": "2024-03-01T11:46:22.716901Z"
    },
    "papermill": {
     "duration": 0.329262,
     "end_time": "2024-03-01T11:46:22.720482",
     "exception": false,
     "start_time": "2024-03-01T11:46:22.391220",
     "status": "completed"
    },
    "tags": []
   },
   "outputs": [
    {
     "name": "stdout",
     "output_type": "stream",
     "text": [
      "True Negative: 85\n",
      "False Negative: 6\n",
      "False pasitive: 5\n",
      "True positive: 47\n"
     ]
    },
    {
     "data": {
      "image/png": "[encoded data removed]",
      "text/plain": [
       "<Figure size 500x500 with 2 Axes>"
      ]
     },
     "metadata": {},
     "output_type": "display_data"
    }
   ],
   "source": [
    "plt.figure(figsize=(5,5)) \n",
    "sns.heatmap(cm4,annot=True , linewidth=0.5) \n",
    "print('True Negative:',cm4[0,0])\n",
    "print('False Negative:',cm4[1,0])\n",
    "print('False pasitive:',cm4[0,1])\n",
    "print('True positive:',cm4[1,1])\n"
   ]
  },
  {
   "cell_type": "markdown",
   "id": "6ce4dad9",
   "metadata": {
    "papermill": {
     "duration": 0.015602,
     "end_time": "2024-03-01T11:46:22.751804",
     "exception": false,
     "start_time": "2024-03-01T11:46:22.736202",
     "status": "completed"
    },
    "tags": []
   },
   "source": [
    "# SVC"
   ]
  },
  {
   "cell_type": "code",
   "execution_count": 36,
   "id": "f9119feb",
   "metadata": {
    "execution": {
     "iopub.execute_input": "2024-03-01T11:46:22.786661Z",
     "iopub.status.busy": "2024-03-01T11:46:22.785901Z",
     "iopub.status.idle": "2024-03-01T11:46:22.800883Z",
     "shell.execute_reply": "2024-03-01T11:46:22.798892Z"
    },
    "papermill": {
     "duration": 0.036587,
     "end_time": "2024-03-01T11:46:22.804439",
     "exception": false,
     "start_time": "2024-03-01T11:46:22.767852",
     "status": "completed"
    },
    "tags": []
   },
   "outputs": [
    {
     "data": {
      "text/html": [
       "<style>#sk-container-id-6 {color: black;background-color: white;}#sk-container-id-6 pre{padding: 0;}#sk-container-id-6 div.sk-toggleable {background-color: white;}#sk-container-id-6 label.sk-toggleable__label {cursor: pointer;display: block;width: 100%;margin-bottom: 0;padding: 0.3em;box-sizing: border-box;text-align: center;}#sk-container-id-6 label.sk-toggleable__label-arrow:before {content: \"▸\";float: left;margin-right: 0.25em;color: #696969;}#sk-container-id-6 label.sk-toggleable__label-arrow:hover:before {color: black;}#sk-container-id-6 div.sk-estimator:hover label.sk-toggleable__label-arrow:before {color: black;}#sk-container-id-6 div.sk-toggleable__content {max-height: 0;max-width: 0;overflow: hidden;text-align: left;background-color: #f0f8ff;}#sk-container-id-6 div.sk-toggleable__content pre {margin: 0.2em;color: black;border-radius: 0.25em;background-color: #f0f8ff;}#sk-container-id-6 input.sk-toggleable__control:checked~div.sk-toggleable__content {max-height: 200px;max-width: 100%;overflow: auto;}#sk-container-id-6 input.sk-toggleable__control:checked~label.sk-toggleable__label-arrow:before {content: \"▾\";}#sk-container-id-6 div.sk-estimator input.sk-toggleable__control:checked~label.sk-toggleable__label {background-color: #d4ebff;}#sk-container-id-6 div.sk-label input.sk-toggleable__control:checked~label.sk-toggleable__label {background-color: #d4ebff;}#sk-container-id-6 input.sk-hidden--visually {border: 0;clip: rect(1px 1px 1px 1px);clip: rect(1px, 1px, 1px, 1px);height: 1px;margin: -1px;overflow: hidden;padding: 0;position: absolute;width: 1px;}#sk-container-id-6 div.sk-estimator {font-family: monospace;background-color: #f0f8ff;border: 1px dotted black;border-radius: 0.25em;box-sizing: border-box;margin-bottom: 0.5em;}#sk-container-id-6 div.sk-estimator:hover {background-color: #d4ebff;}#sk-container-id-6 div.sk-parallel-item::after {content: \"\";width: 100%;border-bottom: 1px solid gray;flex-grow: 1;}#sk-container-id-6 div.sk-label:hover label.sk-toggleable__label {background-color: #d4ebff;}#sk-container-id-6 div.sk-serial::before {content: \"\";position: absolute;border-left: 1px solid gray;box-sizing: border-box;top: 0;bottom: 0;left: 50%;z-index: 0;}#sk-container-id-6 div.sk-serial {display: flex;flex-direction: column;align-items: center;background-color: white;padding-right: 0.2em;padding-left: 0.2em;position: relative;}#sk-container-id-6 div.sk-item {position: relative;z-index: 1;}#sk-container-id-6 div.sk-parallel {display: flex;align-items: stretch;justify-content: center;background-color: white;position: relative;}#sk-container-id-6 div.sk-item::before, #sk-container-id-6 div.sk-parallel-item::before {content: \"\";position: absolute;border-left: 1px solid gray;box-sizing: border-box;top: 0;bottom: 0;left: 50%;z-index: -1;}#sk-container-id-6 div.sk-parallel-item {display: flex;flex-direction: column;z-index: 1;position: relative;background-color: white;}#sk-container-id-6 div.sk-parallel-item:first-child::after {align-self: flex-end;width: 50%;}#sk-container-id-6 div.sk-parallel-item:last-child::after {align-self: flex-start;width: 50%;}#sk-container-id-6 div.sk-parallel-item:only-child::after {width: 0;}#sk-container-id-6 div.sk-dashed-wrapped {border: 1px dashed gray;margin: 0 0.4em 0.5em 0.4em;box-sizing: border-box;padding-bottom: 0.4em;background-color: white;}#sk-container-id-6 div.sk-label label {font-family: monospace;font-weight: bold;display: inline-block;line-height: 1.2em;}#sk-container-id-6 div.sk-label-container {text-align: center;}#sk-container-id-6 div.sk-container {/* jupyter's `normalize.less` sets `[hidden] { display: none; }` but bootstrap.min.css set `[hidden] { display: none !important; }` so we also need the `!important` here to be able to override the default hidden behavior on the sphinx rendered scikit-learn.org. See: https://github.com/scikit-learn/scikit-learn/issues/21755 */display: inline-block !important;position: relative;}#sk-container-id-6 div.sk-text-repr-fallback {display: none;}</style><div id=\"sk-container-id-6\" class=\"sk-top-container\"><div class=\"sk-text-repr-fallback\"><pre>SVC(random_state=42)</pre><b>In a Jupyter environment, please rerun this cell to show the HTML representation or trust the notebook. <br />On GitHub, the HTML representation is unable to render, please try loading this page with nbviewer.org.</b></div><div class=\"sk-container\" hidden><div class=\"sk-item\"><div class=\"sk-estimator sk-toggleable\"><input class=\"sk-toggleable__control sk-hidden--visually\" id=\"sk-estimator-id-6\" type=\"checkbox\" checked><label for=\"sk-estimator-id-6\" class=\"sk-toggleable__label sk-toggleable__label-arrow\">SVC</label><div class=\"sk-toggleable__content\"><pre>SVC(random_state=42)</pre></div></div></div></div></div>"
      ],
      "text/plain": [
       "SVC(random_state=42)"
      ]
     },
     "execution_count": 36,
     "metadata": {},
     "output_type": "execute_result"
    }
   ],
   "source": [
    "from sklearn.svm import SVC\n",
    "classifier = SVC(kernel = 'rbf', random_state = 42)\n",
    "classifier.fit(X_train, y_train)"
   ]
  },
  {
   "cell_type": "code",
   "execution_count": 37,
   "id": "bdce7e8b",
   "metadata": {
    "execution": {
     "iopub.execute_input": "2024-03-01T11:46:22.843585Z",
     "iopub.status.busy": "2024-03-01T11:46:22.842002Z",
     "iopub.status.idle": "2024-03-01T11:46:22.849812Z",
     "shell.execute_reply": "2024-03-01T11:46:22.848524Z"
    },
    "papermill": {
     "duration": 0.02998,
     "end_time": "2024-03-01T11:46:22.852562",
     "exception": false,
     "start_time": "2024-03-01T11:46:22.822582",
     "status": "completed"
    },
    "tags": []
   },
   "outputs": [],
   "source": [
    "y_pred5 = classifier.predict(X_test)\n"
   ]
  },
  {
   "cell_type": "code",
   "execution_count": 38,
   "id": "44872d91",
   "metadata": {
    "execution": {
     "iopub.execute_input": "2024-03-01T11:46:22.889384Z",
     "iopub.status.busy": "2024-03-01T11:46:22.888915Z",
     "iopub.status.idle": "2024-03-01T11:46:22.899887Z",
     "shell.execute_reply": "2024-03-01T11:46:22.898038Z"
    },
    "papermill": {
     "duration": 0.032054,
     "end_time": "2024-03-01T11:46:22.902575",
     "exception": false,
     "start_time": "2024-03-01T11:46:22.870521",
     "status": "completed"
    },
    "tags": []
   },
   "outputs": [
    {
     "name": "stdout",
     "output_type": "stream",
     "text": [
      "[[88  2]\n",
      " [ 3 50]]\n",
      "0.965034965034965\n"
     ]
    }
   ],
   "source": [
    "cm5 = confusion_matrix(y_test, y_pred5)\n",
    "print(cm5)\n",
    "f=accuracy_score(y_test, y_pred5)\n",
    "print(f)"
   ]
  },
  {
   "cell_type": "code",
   "execution_count": 39,
   "id": "7662789b",
   "metadata": {
    "execution": {
     "iopub.execute_input": "2024-03-01T11:46:22.938432Z",
     "iopub.status.busy": "2024-03-01T11:46:22.937798Z",
     "iopub.status.idle": "2024-03-01T11:46:23.282074Z",
     "shell.execute_reply": "2024-03-01T11:46:23.280445Z"
    },
    "papermill": {
     "duration": 0.366406,
     "end_time": "2024-03-01T11:46:23.285250",
     "exception": false,
     "start_time": "2024-03-01T11:46:22.918844",
     "status": "completed"
    },
    "tags": []
   },
   "outputs": [
    {
     "name": "stdout",
     "output_type": "stream",
     "text": [
      "True Negative: 88\n",
      "False Negative: 3\n",
      "False pasitive: 2\n",
      "True positive: 50\n"
     ]
    },
    {
     "data": {
      "image/png": "[encoded data removed]",
      "text/plain": [
       "<Figure size 500x500 with 2 Axes>"
      ]
     },
     "metadata": {},
     "output_type": "display_data"
    }
   ],
   "source": [
    "plt.figure(figsize=(5,5)) \n",
    "sns.heatmap(cm5,annot=True , linewidth=0.5) \n",
    "print('True Negative:',cm5[0,0])\n",
    "print('False Negative:',cm5[1,0])\n",
    "print('False pasitive:',cm5[0,1])\n",
    "print('True positive:',cm5[1,1])\n"
   ]
  },
  {
   "cell_type": "code",
   "execution_count": 40,
   "id": "49da3c31",
   "metadata": {
    "execution": {
     "iopub.execute_input": "2024-03-01T11:46:23.325692Z",
     "iopub.status.busy": "2024-03-01T11:46:23.325268Z",
     "iopub.status.idle": "2024-03-01T11:46:23.340032Z",
     "shell.execute_reply": "2024-03-01T11:46:23.338509Z"
    },
    "papermill": {
     "duration": 0.038752,
     "end_time": "2024-03-01T11:46:23.342713",
     "exception": false,
     "start_time": "2024-03-01T11:46:23.303961",
     "status": "completed"
    },
    "tags": []
   },
   "outputs": [
    {
     "data": {
      "text/html": [
       "<div>\n",
       "<style scoped>\n",
       "    .dataframe tbody tr th:only-of-type {\n",
       "        vertical-align: middle;\n",
       "    }\n",
       "\n",
       "    .dataframe tbody tr th {\n",
       "        vertical-align: top;\n",
       "    }\n",
       "\n",
       "    .dataframe thead th {\n",
       "        text-align: right;\n",
       "    }\n",
       "</style>\n",
       "<table border=\"1\" class=\"dataframe\">\n",
       "  <thead>\n",
       "    <tr style=\"text-align: right;\">\n",
       "      <th></th>\n",
       "      <th>Algorisms</th>\n",
       "      <th>Accuracies</th>\n",
       "    </tr>\n",
       "  </thead>\n",
       "  <tbody>\n",
       "    <tr>\n",
       "      <th>0</th>\n",
       "      <td>Decision Tree Classification</td>\n",
       "      <td>0.951049</td>\n",
       "    </tr>\n",
       "    <tr>\n",
       "      <th>1</th>\n",
       "      <td>Random Forest Classification</td>\n",
       "      <td>0.979021</td>\n",
       "    </tr>\n",
       "    <tr>\n",
       "      <th>2</th>\n",
       "      <td>K-Nearest Neighbors</td>\n",
       "      <td>0.958042</td>\n",
       "    </tr>\n",
       "    <tr>\n",
       "      <th>3</th>\n",
       "      <td>LogisticRegression</td>\n",
       "      <td>0.944056</td>\n",
       "    </tr>\n",
       "    <tr>\n",
       "      <th>4</th>\n",
       "      <td>Naive Bayes</td>\n",
       "      <td>0.923077</td>\n",
       "    </tr>\n",
       "    <tr>\n",
       "      <th>5</th>\n",
       "      <td>SVC</td>\n",
       "      <td>0.965035</td>\n",
       "    </tr>\n",
       "  </tbody>\n",
       "</table>\n",
       "</div>"
      ],
      "text/plain": [
       "                      Algorisms  Accuracies\n",
       "0  Decision Tree Classification    0.951049\n",
       "1  Random Forest Classification    0.979021\n",
       "2           K-Nearest Neighbors    0.958042\n",
       "3            LogisticRegression    0.944056\n",
       "4                   Naive Bayes    0.923077\n",
       "5                           SVC    0.965035"
      ]
     },
     "execution_count": 40,
     "metadata": {},
     "output_type": "execute_result"
    }
   ],
   "source": [
    "model=['Decision Tree Classification','Random Forest Classification','K-Nearest Neighbors','LogisticRegression','Naive Bayes','SVC']\n",
    "accuracy=[a,b,c,d,e,f]\n",
    "Final_result=pd.DataFrame({'Algorisms':model ,'Accuracies':accuracy})\n",
    "Final_result"
   ]
  },
  {
   "cell_type": "code",
   "execution_count": null,
   "id": "7ac37c79",
   "metadata": {
    "papermill": {
     "duration": 0.016939,
     "end_time": "2024-03-01T11:46:23.377218",
     "exception": false,
     "start_time": "2024-03-01T11:46:23.360279",
     "status": "completed"
    },
    "tags": []
   },
   "outputs": [],
   "source": []
  }
 ],
 "metadata": {
  "kaggle": {
   "accelerator": "none",
   "dataSources": [
    {
     "datasetId": 1829286,
     "sourceId": 2984728,
     "sourceType": "datasetVersion"
    }
   ],
   "dockerImageVersionId": 30664,
   "isGpuEnabled": false,
   "isInternetEnabled": false,
   "language": "python",
   "sourceType": "notebook"
  },
  "kernelspec": {
   "display_name": "Python 3",
   "language": "python",
   "name": "python3"
  },
  "language_info": {
   "codemirror_mode": {
    "name": "ipython",
    "version": 3
   },
   "file_extension": ".py",
   "mimetype": "text/x-python",
   "name": "python",
   "nbconvert_exporter": "python",
   "pygments_lexer": "ipython3",
   "version": "3.10.13"
  },
  "papermill": {
   "default_parameters": {},
   "duration": 12.114658,
   "end_time": "2024-03-01T11:46:24.220455",
   "environment_variables": {},
   "exception": null,
   "input_path": "__notebook__.ipynb",
   "output_path": "__notebook__.ipynb",
   "parameters": {},
   "start_time": "2024-03-01T11:46:12.105797",
   "version": "2.5.0"
  }
 },
 "nbformat": 4,
 "nbformat_minor": 5
}
